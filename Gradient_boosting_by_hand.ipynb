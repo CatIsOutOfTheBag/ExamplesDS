{
  "nbformat": 4,
  "nbformat_minor": 0,
  "metadata": {
    "colab": {
      "name": "Gradient_boosting_by_hand.ipynb",
      "provenance": [],
      "collapsed_sections": [],
      "authorship_tag": "ABX9TyNg7lzvdwf6+SvgZPIiGDiY",
      "include_colab_link": true
    },
    "kernelspec": {
      "name": "python3",
      "display_name": "Python 3"
    },
    "language_info": {
      "name": "python"
    }
  },
  "cells": [
    {
      "cell_type": "markdown",
      "metadata": {
        "id": "view-in-github",
        "colab_type": "text"
      },
      "source": [
        "<a href=\"https://colab.research.google.com/github/CatIsOutOfTheBag/ExamplesDS/blob/main/Gradient_boosting_by_hand.ipynb\" target=\"_parent\"><img src=\"https://colab.research.google.com/assets/colab-badge.svg\" alt=\"Open In Colab\"/></a>"
      ]
    },
    {
      "cell_type": "markdown",
      "source": [
        "# Регрессия"
      ],
      "metadata": {
        "id": "TQnsx8bghz0p"
      }
    },
    {
      "cell_type": "code",
      "execution_count": 65,
      "metadata": {
        "id": "_VXuJYI08rGL"
      },
      "outputs": [],
      "source": [
        "import pandas as pd\n",
        "import numpy as np\n",
        "from sklearn.datasets import make_regression # генерация данных для регрессии"
      ]
    },
    {
      "cell_type": "code",
      "source": [
        "X, y = make_regression(n_samples=10, n_features=3)"
      ],
      "metadata": {
        "id": "QG3hb_8a9BYl"
      },
      "execution_count": 66,
      "outputs": []
    },
    {
      "cell_type": "code",
      "source": [
        "df = pd.DataFrame(X)\n",
        "df['y_true'] = y"
      ],
      "metadata": {
        "id": "zL9zXqu29p5W"
      },
      "execution_count": 67,
      "outputs": []
    },
    {
      "cell_type": "code",
      "source": [
        "# делаем константное предсказание - среднее по таргеты\n",
        "df['y_pred_0'] = df['y_true'].mean()\n",
        "df"
      ],
      "metadata": {
        "colab": {
          "base_uri": "https://localhost:8080/",
          "height": 363
        },
        "id": "xf2pApPE9wIk",
        "outputId": "decbec57-e1f6-4fe9-c28a-6c2c1aec19cd"
      },
      "execution_count": 68,
      "outputs": [
        {
          "output_type": "execute_result",
          "data": {
            "text/plain": [
              "          0         1         2      y_true   y_pred_0\n",
              "0 -0.111303 -0.411223 -1.076216  -71.075816 -15.367971\n",
              "1 -0.719981 -0.401933 -0.196453  -46.575007 -15.367971\n",
              "2  0.120886 -1.217243 -0.316446 -111.288633 -15.367971\n",
              "3  0.299101  0.657483  1.498026  107.340996 -15.367971\n",
              "4  0.485114  0.512510 -0.893672   17.609312 -15.367971\n",
              "5 -0.612116 -0.720766  1.423814  -18.604904 -15.367971\n",
              "6 -0.718693  0.381721 -0.183508   19.455643 -15.367971\n",
              "7 -0.520255 -0.710420 -0.472840  -79.771747 -15.367971\n",
              "8 -0.554880  0.847903 -0.243674   57.941846 -15.367971\n",
              "9 -2.147283 -0.957793  2.130827  -28.711401 -15.367971"
            ],
            "text/html": [
              "\n",
              "  <div id=\"df-63ed1e98-9d67-4c3c-bc73-1bddf00246ca\">\n",
              "    <div class=\"colab-df-container\">\n",
              "      <div>\n",
              "<style scoped>\n",
              "    .dataframe tbody tr th:only-of-type {\n",
              "        vertical-align: middle;\n",
              "    }\n",
              "\n",
              "    .dataframe tbody tr th {\n",
              "        vertical-align: top;\n",
              "    }\n",
              "\n",
              "    .dataframe thead th {\n",
              "        text-align: right;\n",
              "    }\n",
              "</style>\n",
              "<table border=\"1\" class=\"dataframe\">\n",
              "  <thead>\n",
              "    <tr style=\"text-align: right;\">\n",
              "      <th></th>\n",
              "      <th>0</th>\n",
              "      <th>1</th>\n",
              "      <th>2</th>\n",
              "      <th>y_true</th>\n",
              "      <th>y_pred_0</th>\n",
              "    </tr>\n",
              "  </thead>\n",
              "  <tbody>\n",
              "    <tr>\n",
              "      <th>0</th>\n",
              "      <td>-0.111303</td>\n",
              "      <td>-0.411223</td>\n",
              "      <td>-1.076216</td>\n",
              "      <td>-71.075816</td>\n",
              "      <td>-15.367971</td>\n",
              "    </tr>\n",
              "    <tr>\n",
              "      <th>1</th>\n",
              "      <td>-0.719981</td>\n",
              "      <td>-0.401933</td>\n",
              "      <td>-0.196453</td>\n",
              "      <td>-46.575007</td>\n",
              "      <td>-15.367971</td>\n",
              "    </tr>\n",
              "    <tr>\n",
              "      <th>2</th>\n",
              "      <td>0.120886</td>\n",
              "      <td>-1.217243</td>\n",
              "      <td>-0.316446</td>\n",
              "      <td>-111.288633</td>\n",
              "      <td>-15.367971</td>\n",
              "    </tr>\n",
              "    <tr>\n",
              "      <th>3</th>\n",
              "      <td>0.299101</td>\n",
              "      <td>0.657483</td>\n",
              "      <td>1.498026</td>\n",
              "      <td>107.340996</td>\n",
              "      <td>-15.367971</td>\n",
              "    </tr>\n",
              "    <tr>\n",
              "      <th>4</th>\n",
              "      <td>0.485114</td>\n",
              "      <td>0.512510</td>\n",
              "      <td>-0.893672</td>\n",
              "      <td>17.609312</td>\n",
              "      <td>-15.367971</td>\n",
              "    </tr>\n",
              "    <tr>\n",
              "      <th>5</th>\n",
              "      <td>-0.612116</td>\n",
              "      <td>-0.720766</td>\n",
              "      <td>1.423814</td>\n",
              "      <td>-18.604904</td>\n",
              "      <td>-15.367971</td>\n",
              "    </tr>\n",
              "    <tr>\n",
              "      <th>6</th>\n",
              "      <td>-0.718693</td>\n",
              "      <td>0.381721</td>\n",
              "      <td>-0.183508</td>\n",
              "      <td>19.455643</td>\n",
              "      <td>-15.367971</td>\n",
              "    </tr>\n",
              "    <tr>\n",
              "      <th>7</th>\n",
              "      <td>-0.520255</td>\n",
              "      <td>-0.710420</td>\n",
              "      <td>-0.472840</td>\n",
              "      <td>-79.771747</td>\n",
              "      <td>-15.367971</td>\n",
              "    </tr>\n",
              "    <tr>\n",
              "      <th>8</th>\n",
              "      <td>-0.554880</td>\n",
              "      <td>0.847903</td>\n",
              "      <td>-0.243674</td>\n",
              "      <td>57.941846</td>\n",
              "      <td>-15.367971</td>\n",
              "    </tr>\n",
              "    <tr>\n",
              "      <th>9</th>\n",
              "      <td>-2.147283</td>\n",
              "      <td>-0.957793</td>\n",
              "      <td>2.130827</td>\n",
              "      <td>-28.711401</td>\n",
              "      <td>-15.367971</td>\n",
              "    </tr>\n",
              "  </tbody>\n",
              "</table>\n",
              "</div>\n",
              "      <button class=\"colab-df-convert\" onclick=\"convertToInteractive('df-63ed1e98-9d67-4c3c-bc73-1bddf00246ca')\"\n",
              "              title=\"Convert this dataframe to an interactive table.\"\n",
              "              style=\"display:none;\">\n",
              "        \n",
              "  <svg xmlns=\"http://www.w3.org/2000/svg\" height=\"24px\"viewBox=\"0 0 24 24\"\n",
              "       width=\"24px\">\n",
              "    <path d=\"M0 0h24v24H0V0z\" fill=\"none\"/>\n",
              "    <path d=\"M18.56 5.44l.94 2.06.94-2.06 2.06-.94-2.06-.94-.94-2.06-.94 2.06-2.06.94zm-11 1L8.5 8.5l.94-2.06 2.06-.94-2.06-.94L8.5 2.5l-.94 2.06-2.06.94zm10 10l.94 2.06.94-2.06 2.06-.94-2.06-.94-.94-2.06-.94 2.06-2.06.94z\"/><path d=\"M17.41 7.96l-1.37-1.37c-.4-.4-.92-.59-1.43-.59-.52 0-1.04.2-1.43.59L10.3 9.45l-7.72 7.72c-.78.78-.78 2.05 0 2.83L4 21.41c.39.39.9.59 1.41.59.51 0 1.02-.2 1.41-.59l7.78-7.78 2.81-2.81c.8-.78.8-2.07 0-2.86zM5.41 20L4 18.59l7.72-7.72 1.47 1.35L5.41 20z\"/>\n",
              "  </svg>\n",
              "      </button>\n",
              "      \n",
              "  <style>\n",
              "    .colab-df-container {\n",
              "      display:flex;\n",
              "      flex-wrap:wrap;\n",
              "      gap: 12px;\n",
              "    }\n",
              "\n",
              "    .colab-df-convert {\n",
              "      background-color: #E8F0FE;\n",
              "      border: none;\n",
              "      border-radius: 50%;\n",
              "      cursor: pointer;\n",
              "      display: none;\n",
              "      fill: #1967D2;\n",
              "      height: 32px;\n",
              "      padding: 0 0 0 0;\n",
              "      width: 32px;\n",
              "    }\n",
              "\n",
              "    .colab-df-convert:hover {\n",
              "      background-color: #E2EBFA;\n",
              "      box-shadow: 0px 1px 2px rgba(60, 64, 67, 0.3), 0px 1px 3px 1px rgba(60, 64, 67, 0.15);\n",
              "      fill: #174EA6;\n",
              "    }\n",
              "\n",
              "    [theme=dark] .colab-df-convert {\n",
              "      background-color: #3B4455;\n",
              "      fill: #D2E3FC;\n",
              "    }\n",
              "\n",
              "    [theme=dark] .colab-df-convert:hover {\n",
              "      background-color: #434B5C;\n",
              "      box-shadow: 0px 1px 3px 1px rgba(0, 0, 0, 0.15);\n",
              "      filter: drop-shadow(0px 1px 2px rgba(0, 0, 0, 0.3));\n",
              "      fill: #FFFFFF;\n",
              "    }\n",
              "  </style>\n",
              "\n",
              "      <script>\n",
              "        const buttonEl =\n",
              "          document.querySelector('#df-63ed1e98-9d67-4c3c-bc73-1bddf00246ca button.colab-df-convert');\n",
              "        buttonEl.style.display =\n",
              "          google.colab.kernel.accessAllowed ? 'block' : 'none';\n",
              "\n",
              "        async function convertToInteractive(key) {\n",
              "          const element = document.querySelector('#df-63ed1e98-9d67-4c3c-bc73-1bddf00246ca');\n",
              "          const dataTable =\n",
              "            await google.colab.kernel.invokeFunction('convertToInteractive',\n",
              "                                                     [key], {});\n",
              "          if (!dataTable) return;\n",
              "\n",
              "          const docLinkHtml = 'Like what you see? Visit the ' +\n",
              "            '<a target=\"_blank\" href=https://colab.research.google.com/notebooks/data_table.ipynb>data table notebook</a>'\n",
              "            + ' to learn more about interactive tables.';\n",
              "          element.innerHTML = '';\n",
              "          dataTable['output_type'] = 'display_data';\n",
              "          await google.colab.output.renderOutput(dataTable, element);\n",
              "          const docLink = document.createElement('div');\n",
              "          docLink.innerHTML = docLinkHtml;\n",
              "          element.appendChild(docLink);\n",
              "        }\n",
              "      </script>\n",
              "    </div>\n",
              "  </div>\n",
              "  "
            ]
          },
          "metadata": {},
          "execution_count": 68
        }
      ]
    },
    {
      "cell_type": "code",
      "source": [
        "# считаем ошибку на константном предсказании\n",
        "from sklearn.metrics import mean_absolute_error, mean_squared_error\n",
        "mean_absolute_error(df['y_true'], df['y_pred_0']) # видим, что в среднем модель ошибается на 52"
      ],
      "metadata": {
        "colab": {
          "base_uri": "https://localhost:8080/"
        },
        "id": "ojq4MfX096aN",
        "outputId": "280d3bae-10b9-45d9-e683-1db0a8378969"
      },
      "execution_count": 69,
      "outputs": [
        {
          "output_type": "execute_result",
          "data": {
            "text/plain": [
              "52.76393639934245"
            ]
          },
          "metadata": {},
          "execution_count": 69
        }
      ]
    },
    {
      "cell_type": "code",
      "source": [
        "# посчитаем остатки\n",
        "# сколько пунктов предсказанию не хватает до истинного ответа\n",
        "df['residual_0'] = df['y_true'] - df['y_pred_0']\n",
        "\n",
        "# остатки - это и есть градиент - производная квадратичной функции потерь по предикту,\n",
        "# взятая с противоположным знаком, так как движение идет по антиградиенту - \n",
        "# в сторону наискорейшего убывания функции потерь\n",
        "\n",
        "# diff( (1/2) * (y_pred - y_true)**2 ) = - (y_true - y_pred)"
      ],
      "metadata": {
        "id": "eCZ95tov-4k2"
      },
      "execution_count": 70,
      "outputs": []
    },
    {
      "cell_type": "markdown",
      "source": [
        "Сделаем шаг с первым деревом-пнем"
      ],
      "metadata": {
        "id": "FOAt601vHLX7"
      }
    },
    {
      "cell_type": "code",
      "source": [
        "# сделаем дерево-пень\n",
        "from sklearn.tree import DecisionTreeRegressor\n",
        "tree_1 = DecisionTreeRegressor(max_depth=1)"
      ],
      "metadata": {
        "id": "cXVNmFsL-9nd"
      },
      "execution_count": 71,
      "outputs": []
    },
    {
      "cell_type": "code",
      "source": [
        "# обучим его на ошибке константного предсказания\n",
        "tree_1.fit(df[[0,1,2]], df['residual_0'])"
      ],
      "metadata": {
        "colab": {
          "base_uri": "https://localhost:8080/"
        },
        "id": "ny8wpKIY_U9w",
        "outputId": "afdeaa79-d6be-4e84-e44b-4b3fe324ced2"
      },
      "execution_count": 72,
      "outputs": [
        {
          "output_type": "execute_result",
          "data": {
            "text/plain": [
              "DecisionTreeRegressor(max_depth=1)"
            ]
          },
          "metadata": {},
          "execution_count": 72
        }
      ]
    },
    {
      "cell_type": "code",
      "source": [
        "# сделаем предикт с помощью этого дерева\n",
        "df['tree_pred_1'] = tree_1.predict(df[[0,1,2]])"
      ],
      "metadata": {
        "id": "1zdQpY8yFX1K"
      },
      "execution_count": 73,
      "outputs": []
    },
    {
      "cell_type": "code",
      "source": [
        "# посмотрим на это дерево\n",
        "from sklearn.tree import plot_tree\n",
        "plot_tree(tree_1)\n",
        "\n",
        "# дерево предиктит среднее по сэмплам, которые попали в каждый лист"
      ],
      "metadata": {
        "colab": {
          "base_uri": "https://localhost:8080/",
          "height": 300
        },
        "id": "wk3FB_KsFBus",
        "outputId": "0aeb1821-9642-4aa3-a0ff-3233c218f33a"
      },
      "execution_count": 74,
      "outputs": [
        {
          "output_type": "execute_result",
          "data": {
            "text/plain": [
              "[Text(0.5, 0.75, 'X[1] <= -0.01\\nsquared_error = 4034.639\\nsamples = 10\\nvalue = 0.0'),\n",
              " Text(0.25, 0.25, 'squared_error = 1002.375\\nsamples = 6\\nvalue = -43.97'),\n",
              " Text(0.75, 0.25, 'squared_error = 1332.95\\nsamples = 4\\nvalue = 65.955')]"
            ]
          },
          "metadata": {},
          "execution_count": 74
        },
        {
          "output_type": "display_data",
          "data": {
            "text/plain": [
              "<Figure size 432x288 with 1 Axes>"
            ],
            "image/png": "[encoded data removed]"
          },
          "metadata": {
            "needs_background": "light"
          }
        }
      ]
    },
    {
      "cell_type": "code",
      "source": [
        "# будем пошагово улучшать предсказание - бустить\n",
        "# каждое следующее дерево будет обучаться на ошибке предыдущего\n",
        "\n",
        "# бустим:\n",
        "# предсказание дерева прибавляем к константному предсказанию,\n",
        "# предварительно умножив на скорость обучения - learning rate\n",
        "\n",
        "nu = 0.1\n",
        "df['y_pred_1'] = df['y_pred_0'] + nu * df['tree_pred_1']"
      ],
      "metadata": {
        "id": "7hiLz_97FjnD"
      },
      "execution_count": 75,
      "outputs": []
    },
    {
      "cell_type": "code",
      "source": [
        "# посчитаем ошибку на новом предсказании\n",
        "mean_absolute_error(df['y_true'], df['y_pred_1']) # видим, что ошибка уменьшилась\n"
      ],
      "metadata": {
        "colab": {
          "base_uri": "https://localhost:8080/"
        },
        "id": "-h1BMPsJGGCN",
        "outputId": "c1b14957-9d10-416f-89e0-1232421977d0"
      },
      "execution_count": 76,
      "outputs": [
        {
          "output_type": "execute_result",
          "data": {
            "text/plain": [
              "47.7195551504132"
            ]
          },
          "metadata": {},
          "execution_count": 76
        }
      ]
    },
    {
      "cell_type": "markdown",
      "source": [
        "И еще один аналогичный шаг со вторым деревом-пнем"
      ],
      "metadata": {
        "id": "OROxn348GzlI"
      }
    },
    {
      "cell_type": "code",
      "source": [
        "# посчитаем остатки после предыдущего шага\n",
        "df['residual_1'] = df['y_true'] - df['y_pred_1']\n",
        "df"
      ],
      "metadata": {
        "colab": {
          "base_uri": "https://localhost:8080/",
          "height": 363
        },
        "id": "TdjaUlmkHhtz",
        "outputId": "b509e144-b044-4e56-977c-53675670a9c8"
      },
      "execution_count": 77,
      "outputs": [
        {
          "output_type": "execute_result",
          "data": {
            "text/plain": [
              "          0         1         2      y_true   y_pred_0  residual_0  \\\n",
              "0 -0.111303 -0.411223 -1.076216  -71.075816 -15.367971  -55.707845   \n",
              "1 -0.719981 -0.401933 -0.196453  -46.575007 -15.367971  -31.207036   \n",
              "2  0.120886 -1.217243 -0.316446 -111.288633 -15.367971  -95.920662   \n",
              "3  0.299101  0.657483  1.498026  107.340996 -15.367971  122.708968   \n",
              "4  0.485114  0.512510 -0.893672   17.609312 -15.367971   32.977283   \n",
              "5 -0.612116 -0.720766  1.423814  -18.604904 -15.367971   -3.236933   \n",
              "6 -0.718693  0.381721 -0.183508   19.455643 -15.367971   34.823614   \n",
              "7 -0.520255 -0.710420 -0.472840  -79.771747 -15.367971  -64.403776   \n",
              "8 -0.554880  0.847903 -0.243674   57.941846 -15.367971   73.309817   \n",
              "9 -2.147283 -0.957793  2.130827  -28.711401 -15.367971  -13.343430   \n",
              "\n",
              "   tree_pred_1   y_pred_1  residual_1  \n",
              "0   -43.969947 -19.764966  -51.310850  \n",
              "1   -43.969947 -19.764966  -26.810042  \n",
              "2   -43.969947 -19.764966  -91.523668  \n",
              "3    65.954920  -8.772479  116.113476  \n",
              "4    65.954920  -8.772479   26.381791  \n",
              "5   -43.969947 -19.764966    1.160062  \n",
              "6    65.954920  -8.772479   28.228122  \n",
              "7   -43.969947 -19.764966  -60.006781  \n",
              "8    65.954920  -8.772479   66.714325  \n",
              "9   -43.969947 -19.764966   -8.946435  "
            ],
            "text/html": [
              "\n",
              "  <div id=\"df-68550ab1-d48e-4516-95da-3a562d48a50f\">\n",
              "    <div class=\"colab-df-container\">\n",
              "      <div>\n",
              "<style scoped>\n",
              "    .dataframe tbody tr th:only-of-type {\n",
              "        vertical-align: middle;\n",
              "    }\n",
              "\n",
              "    .dataframe tbody tr th {\n",
              "        vertical-align: top;\n",
              "    }\n",
              "\n",
              "    .dataframe thead th {\n",
              "        text-align: right;\n",
              "    }\n",
              "</style>\n",
              "<table border=\"1\" class=\"dataframe\">\n",
              "  <thead>\n",
              "    <tr style=\"text-align: right;\">\n",
              "      <th></th>\n",
              "      <th>0</th>\n",
              "      <th>1</th>\n",
              "      <th>2</th>\n",
              "      <th>y_true</th>\n",
              "      <th>y_pred_0</th>\n",
              "      <th>residual_0</th>\n",
              "      <th>tree_pred_1</th>\n",
              "      <th>y_pred_1</th>\n",
              "      <th>residual_1</th>\n",
              "    </tr>\n",
              "  </thead>\n",
              "  <tbody>\n",
              "    <tr>\n",
              "      <th>0</th>\n",
              "      <td>-0.111303</td>\n",
              "      <td>-0.411223</td>\n",
              "      <td>-1.076216</td>\n",
              "      <td>-71.075816</td>\n",
              "      <td>-15.367971</td>\n",
              "      <td>-55.707845</td>\n",
              "      <td>-43.969947</td>\n",
              "      <td>-19.764966</td>\n",
              "      <td>-51.310850</td>\n",
              "    </tr>\n",
              "    <tr>\n",
              "      <th>1</th>\n",
              "      <td>-0.719981</td>\n",
              "      <td>-0.401933</td>\n",
              "      <td>-0.196453</td>\n",
              "      <td>-46.575007</td>\n",
              "      <td>-15.367971</td>\n",
              "      <td>-31.207036</td>\n",
              "      <td>-43.969947</td>\n",
              "      <td>-19.764966</td>\n",
              "      <td>-26.810042</td>\n",
              "    </tr>\n",
              "    <tr>\n",
              "      <th>2</th>\n",
              "      <td>0.120886</td>\n",
              "      <td>-1.217243</td>\n",
              "      <td>-0.316446</td>\n",
              "      <td>-111.288633</td>\n",
              "      <td>-15.367971</td>\n",
              "      <td>-95.920662</td>\n",
              "      <td>-43.969947</td>\n",
              "      <td>-19.764966</td>\n",
              "      <td>-91.523668</td>\n",
              "    </tr>\n",
              "    <tr>\n",
              "      <th>3</th>\n",
              "      <td>0.299101</td>\n",
              "      <td>0.657483</td>\n",
              "      <td>1.498026</td>\n",
              "      <td>107.340996</td>\n",
              "      <td>-15.367971</td>\n",
              "      <td>122.708968</td>\n",
              "      <td>65.954920</td>\n",
              "      <td>-8.772479</td>\n",
              "      <td>116.113476</td>\n",
              "    </tr>\n",
              "    <tr>\n",
              "      <th>4</th>\n",
              "      <td>0.485114</td>\n",
              "      <td>0.512510</td>\n",
              "      <td>-0.893672</td>\n",
              "      <td>17.609312</td>\n",
              "      <td>-15.367971</td>\n",
              "      <td>32.977283</td>\n",
              "      <td>65.954920</td>\n",
              "      <td>-8.772479</td>\n",
              "      <td>26.381791</td>\n",
              "    </tr>\n",
              "    <tr>\n",
              "      <th>5</th>\n",
              "      <td>-0.612116</td>\n",
              "      <td>-0.720766</td>\n",
              "      <td>1.423814</td>\n",
              "      <td>-18.604904</td>\n",
              "      <td>-15.367971</td>\n",
              "      <td>-3.236933</td>\n",
              "      <td>-43.969947</td>\n",
              "      <td>-19.764966</td>\n",
              "      <td>1.160062</td>\n",
              "    </tr>\n",
              "    <tr>\n",
              "      <th>6</th>\n",
              "      <td>-0.718693</td>\n",
              "      <td>0.381721</td>\n",
              "      <td>-0.183508</td>\n",
              "      <td>19.455643</td>\n",
              "      <td>-15.367971</td>\n",
              "      <td>34.823614</td>\n",
              "      <td>65.954920</td>\n",
              "      <td>-8.772479</td>\n",
              "      <td>28.228122</td>\n",
              "    </tr>\n",
              "    <tr>\n",
              "      <th>7</th>\n",
              "      <td>-0.520255</td>\n",
              "      <td>-0.710420</td>\n",
              "      <td>-0.472840</td>\n",
              "      <td>-79.771747</td>\n",
              "      <td>-15.367971</td>\n",
              "      <td>-64.403776</td>\n",
              "      <td>-43.969947</td>\n",
              "      <td>-19.764966</td>\n",
              "      <td>-60.006781</td>\n",
              "    </tr>\n",
              "    <tr>\n",
              "      <th>8</th>\n",
              "      <td>-0.554880</td>\n",
              "      <td>0.847903</td>\n",
              "      <td>-0.243674</td>\n",
              "      <td>57.941846</td>\n",
              "      <td>-15.367971</td>\n",
              "      <td>73.309817</td>\n",
              "      <td>65.954920</td>\n",
              "      <td>-8.772479</td>\n",
              "      <td>66.714325</td>\n",
              "    </tr>\n",
              "    <tr>\n",
              "      <th>9</th>\n",
              "      <td>-2.147283</td>\n",
              "      <td>-0.957793</td>\n",
              "      <td>2.130827</td>\n",
              "      <td>-28.711401</td>\n",
              "      <td>-15.367971</td>\n",
              "      <td>-13.343430</td>\n",
              "      <td>-43.969947</td>\n",
              "      <td>-19.764966</td>\n",
              "      <td>-8.946435</td>\n",
              "    </tr>\n",
              "  </tbody>\n",
              "</table>\n",
              "</div>\n",
              "      <button class=\"colab-df-convert\" onclick=\"convertToInteractive('df-68550ab1-d48e-4516-95da-3a562d48a50f')\"\n",
              "              title=\"Convert this dataframe to an interactive table.\"\n",
              "              style=\"display:none;\">\n",
              "        \n",
              "  <svg xmlns=\"http://www.w3.org/2000/svg\" height=\"24px\"viewBox=\"0 0 24 24\"\n",
              "       width=\"24px\">\n",
              "    <path d=\"M0 0h24v24H0V0z\" fill=\"none\"/>\n",
              "    <path d=\"M18.56 5.44l.94 2.06.94-2.06 2.06-.94-2.06-.94-.94-2.06-.94 2.06-2.06.94zm-11 1L8.5 8.5l.94-2.06 2.06-.94-2.06-.94L8.5 2.5l-.94 2.06-2.06.94zm10 10l.94 2.06.94-2.06 2.06-.94-2.06-.94-.94-2.06-.94 2.06-2.06.94z\"/><path d=\"M17.41 7.96l-1.37-1.37c-.4-.4-.92-.59-1.43-.59-.52 0-1.04.2-1.43.59L10.3 9.45l-7.72 7.72c-.78.78-.78 2.05 0 2.83L4 21.41c.39.39.9.59 1.41.59.51 0 1.02-.2 1.41-.59l7.78-7.78 2.81-2.81c.8-.78.8-2.07 0-2.86zM5.41 20L4 18.59l7.72-7.72 1.47 1.35L5.41 20z\"/>\n",
              "  </svg>\n",
              "      </button>\n",
              "      \n",
              "  <style>\n",
              "    .colab-df-container {\n",
              "      display:flex;\n",
              "      flex-wrap:wrap;\n",
              "      gap: 12px;\n",
              "    }\n",
              "\n",
              "    .colab-df-convert {\n",
              "      background-color: #E8F0FE;\n",
              "      border: none;\n",
              "      border-radius: 50%;\n",
              "      cursor: pointer;\n",
              "      display: none;\n",
              "      fill: #1967D2;\n",
              "      height: 32px;\n",
              "      padding: 0 0 0 0;\n",
              "      width: 32px;\n",
              "    }\n",
              "\n",
              "    .colab-df-convert:hover {\n",
              "      background-color: #E2EBFA;\n",
              "      box-shadow: 0px 1px 2px rgba(60, 64, 67, 0.3), 0px 1px 3px 1px rgba(60, 64, 67, 0.15);\n",
              "      fill: #174EA6;\n",
              "    }\n",
              "\n",
              "    [theme=dark] .colab-df-convert {\n",
              "      background-color: #3B4455;\n",
              "      fill: #D2E3FC;\n",
              "    }\n",
              "\n",
              "    [theme=dark] .colab-df-convert:hover {\n",
              "      background-color: #434B5C;\n",
              "      box-shadow: 0px 1px 3px 1px rgba(0, 0, 0, 0.15);\n",
              "      filter: drop-shadow(0px 1px 2px rgba(0, 0, 0, 0.3));\n",
              "      fill: #FFFFFF;\n",
              "    }\n",
              "  </style>\n",
              "\n",
              "      <script>\n",
              "        const buttonEl =\n",
              "          document.querySelector('#df-68550ab1-d48e-4516-95da-3a562d48a50f button.colab-df-convert');\n",
              "        buttonEl.style.display =\n",
              "          google.colab.kernel.accessAllowed ? 'block' : 'none';\n",
              "\n",
              "        async function convertToInteractive(key) {\n",
              "          const element = document.querySelector('#df-68550ab1-d48e-4516-95da-3a562d48a50f');\n",
              "          const dataTable =\n",
              "            await google.colab.kernel.invokeFunction('convertToInteractive',\n",
              "                                                     [key], {});\n",
              "          if (!dataTable) return;\n",
              "\n",
              "          const docLinkHtml = 'Like what you see? Visit the ' +\n",
              "            '<a target=\"_blank\" href=https://colab.research.google.com/notebooks/data_table.ipynb>data table notebook</a>'\n",
              "            + ' to learn more about interactive tables.';\n",
              "          element.innerHTML = '';\n",
              "          dataTable['output_type'] = 'display_data';\n",
              "          await google.colab.output.renderOutput(dataTable, element);\n",
              "          const docLink = document.createElement('div');\n",
              "          docLink.innerHTML = docLinkHtml;\n",
              "          element.appendChild(docLink);\n",
              "        }\n",
              "      </script>\n",
              "    </div>\n",
              "  </div>\n",
              "  "
            ]
          },
          "metadata": {},
          "execution_count": 77
        }
      ]
    },
    {
      "cell_type": "code",
      "source": [
        "# сделаем еще одно дерево\n",
        "tree_2 = DecisionTreeRegressor(max_depth=1)"
      ],
      "metadata": {
        "id": "3jZHVL1qHIXa"
      },
      "execution_count": 78,
      "outputs": []
    },
    {
      "cell_type": "code",
      "source": [
        "# посмотрим на это дерево\n",
        "plot_tree(tree_2)"
      ],
      "metadata": {
        "colab": {
          "base_uri": "https://localhost:8080/",
          "height": 300
        },
        "id": "VYChT7sTNLz8",
        "outputId": "f42501a6-3aa5-41a1-ad9c-52391c056ed1"
      },
      "execution_count": 89,
      "outputs": [
        {
          "output_type": "execute_result",
          "data": {
            "text/plain": [
              "[Text(0.5, 0.75, 'X[1] <= -0.01\\nsquared_error = 3483.633\\nsamples = 10\\nvalue = 0.0'),\n",
              " Text(0.25, 0.25, 'squared_error = 1002.375\\nsamples = 6\\nvalue = -39.573'),\n",
              " Text(0.75, 0.25, 'squared_error = 1332.95\\nsamples = 4\\nvalue = 59.359')]"
            ]
          },
          "metadata": {},
          "execution_count": 89
        },
        {
          "output_type": "display_data",
          "data": {
            "text/plain": [
              "<Figure size 432x288 with 1 Axes>"
            ],
            "image/png": "[encoded data removed]"
          },
          "metadata": {
            "needs_background": "light"
          }
        }
      ]
    },
    {
      "cell_type": "code",
      "source": [
        "# обучим его на остатках с предыдущего шага\n",
        "tree_2.fit(df[[0,1,2]], df['residual_1'])"
      ],
      "metadata": {
        "colab": {
          "base_uri": "https://localhost:8080/"
        },
        "id": "lbxg8mXxHeXb",
        "outputId": "966be8aa-f997-4f54-886f-b429141ffc37"
      },
      "execution_count": 79,
      "outputs": [
        {
          "output_type": "execute_result",
          "data": {
            "text/plain": [
              "DecisionTreeRegressor(max_depth=1)"
            ]
          },
          "metadata": {},
          "execution_count": 79
        }
      ]
    },
    {
      "cell_type": "code",
      "source": [
        "# сделаем предсказание на новом дереве\n",
        "df['tree_pred_2'] = tree_2.predict(df[[0,1,2]])"
      ],
      "metadata": {
        "id": "WaHyGz7FICPL"
      },
      "execution_count": 80,
      "outputs": []
    },
    {
      "cell_type": "code",
      "source": [
        "# буст\n",
        "df['y_pred_2'] = df['y_pred_1'] + nu * df['tree_pred_2']"
      ],
      "metadata": {
        "id": "3FO41ynmL3sf"
      },
      "execution_count": 81,
      "outputs": []
    },
    {
      "cell_type": "code",
      "source": [
        "# считаем ошибку на предсказании второго дерева\n",
        "mean_absolute_error(df['y_true'], df['y_pred_2']) # снова видим улучшение"
      ],
      "metadata": {
        "colab": {
          "base_uri": "https://localhost:8080/"
        },
        "id": "tnpkzVfpINmB",
        "outputId": "4a13c4f2-7182-455f-f9ce-e5f5b66aba46"
      },
      "execution_count": 82,
      "outputs": [
        {
          "output_type": "execute_result",
          "data": {
            "text/plain": [
              "43.76225992046251"
            ]
          },
          "metadata": {},
          "execution_count": 82
        }
      ]
    },
    {
      "cell_type": "markdown",
      "source": [
        "Обернем шаги градиентного бустинга в цикл"
      ],
      "metadata": {
        "id": "4J0xrNfWIaG1"
      }
    },
    {
      "cell_type": "code",
      "source": [
        "df = df[[0,1,2, 'y_true']].copy() # вернемся к первоначальному датафрейму\n",
        "df"
      ],
      "metadata": {
        "colab": {
          "base_uri": "https://localhost:8080/",
          "height": 363
        },
        "id": "wByh9U9dIkcb",
        "outputId": "5d26a7f9-162d-49d0-c409-6efdc15d6cb6"
      },
      "execution_count": 85,
      "outputs": [
        {
          "output_type": "execute_result",
          "data": {
            "text/plain": [
              "          0         1         2      y_true\n",
              "0 -0.111303 -0.411223 -1.076216  -71.075816\n",
              "1 -0.719981 -0.401933 -0.196453  -46.575007\n",
              "2  0.120886 -1.217243 -0.316446 -111.288633\n",
              "3  0.299101  0.657483  1.498026  107.340996\n",
              "4  0.485114  0.512510 -0.893672   17.609312\n",
              "5 -0.612116 -0.720766  1.423814  -18.604904\n",
              "6 -0.718693  0.381721 -0.183508   19.455643\n",
              "7 -0.520255 -0.710420 -0.472840  -79.771747\n",
              "8 -0.554880  0.847903 -0.243674   57.941846\n",
              "9 -2.147283 -0.957793  2.130827  -28.711401"
            ],
            "text/html": [
              "\n",
              "  <div id=\"df-130a6a35-9f2b-47bd-9235-118667e30676\">\n",
              "    <div class=\"colab-df-container\">\n",
              "      <div>\n",
              "<style scoped>\n",
              "    .dataframe tbody tr th:only-of-type {\n",
              "        vertical-align: middle;\n",
              "    }\n",
              "\n",
              "    .dataframe tbody tr th {\n",
              "        vertical-align: top;\n",
              "    }\n",
              "\n",
              "    .dataframe thead th {\n",
              "        text-align: right;\n",
              "    }\n",
              "</style>\n",
              "<table border=\"1\" class=\"dataframe\">\n",
              "  <thead>\n",
              "    <tr style=\"text-align: right;\">\n",
              "      <th></th>\n",
              "      <th>0</th>\n",
              "      <th>1</th>\n",
              "      <th>2</th>\n",
              "      <th>y_true</th>\n",
              "    </tr>\n",
              "  </thead>\n",
              "  <tbody>\n",
              "    <tr>\n",
              "      <th>0</th>\n",
              "      <td>-0.111303</td>\n",
              "      <td>-0.411223</td>\n",
              "      <td>-1.076216</td>\n",
              "      <td>-71.075816</td>\n",
              "    </tr>\n",
              "    <tr>\n",
              "      <th>1</th>\n",
              "      <td>-0.719981</td>\n",
              "      <td>-0.401933</td>\n",
              "      <td>-0.196453</td>\n",
              "      <td>-46.575007</td>\n",
              "    </tr>\n",
              "    <tr>\n",
              "      <th>2</th>\n",
              "      <td>0.120886</td>\n",
              "      <td>-1.217243</td>\n",
              "      <td>-0.316446</td>\n",
              "      <td>-111.288633</td>\n",
              "    </tr>\n",
              "    <tr>\n",
              "      <th>3</th>\n",
              "      <td>0.299101</td>\n",
              "      <td>0.657483</td>\n",
              "      <td>1.498026</td>\n",
              "      <td>107.340996</td>\n",
              "    </tr>\n",
              "    <tr>\n",
              "      <th>4</th>\n",
              "      <td>0.485114</td>\n",
              "      <td>0.512510</td>\n",
              "      <td>-0.893672</td>\n",
              "      <td>17.609312</td>\n",
              "    </tr>\n",
              "    <tr>\n",
              "      <th>5</th>\n",
              "      <td>-0.612116</td>\n",
              "      <td>-0.720766</td>\n",
              "      <td>1.423814</td>\n",
              "      <td>-18.604904</td>\n",
              "    </tr>\n",
              "    <tr>\n",
              "      <th>6</th>\n",
              "      <td>-0.718693</td>\n",
              "      <td>0.381721</td>\n",
              "      <td>-0.183508</td>\n",
              "      <td>19.455643</td>\n",
              "    </tr>\n",
              "    <tr>\n",
              "      <th>7</th>\n",
              "      <td>-0.520255</td>\n",
              "      <td>-0.710420</td>\n",
              "      <td>-0.472840</td>\n",
              "      <td>-79.771747</td>\n",
              "    </tr>\n",
              "    <tr>\n",
              "      <th>8</th>\n",
              "      <td>-0.554880</td>\n",
              "      <td>0.847903</td>\n",
              "      <td>-0.243674</td>\n",
              "      <td>57.941846</td>\n",
              "    </tr>\n",
              "    <tr>\n",
              "      <th>9</th>\n",
              "      <td>-2.147283</td>\n",
              "      <td>-0.957793</td>\n",
              "      <td>2.130827</td>\n",
              "      <td>-28.711401</td>\n",
              "    </tr>\n",
              "  </tbody>\n",
              "</table>\n",
              "</div>\n",
              "      <button class=\"colab-df-convert\" onclick=\"convertToInteractive('df-130a6a35-9f2b-47bd-9235-118667e30676')\"\n",
              "              title=\"Convert this dataframe to an interactive table.\"\n",
              "              style=\"display:none;\">\n",
              "        \n",
              "  <svg xmlns=\"http://www.w3.org/2000/svg\" height=\"24px\"viewBox=\"0 0 24 24\"\n",
              "       width=\"24px\">\n",
              "    <path d=\"M0 0h24v24H0V0z\" fill=\"none\"/>\n",
              "    <path d=\"M18.56 5.44l.94 2.06.94-2.06 2.06-.94-2.06-.94-.94-2.06-.94 2.06-2.06.94zm-11 1L8.5 8.5l.94-2.06 2.06-.94-2.06-.94L8.5 2.5l-.94 2.06-2.06.94zm10 10l.94 2.06.94-2.06 2.06-.94-2.06-.94-.94-2.06-.94 2.06-2.06.94z\"/><path d=\"M17.41 7.96l-1.37-1.37c-.4-.4-.92-.59-1.43-.59-.52 0-1.04.2-1.43.59L10.3 9.45l-7.72 7.72c-.78.78-.78 2.05 0 2.83L4 21.41c.39.39.9.59 1.41.59.51 0 1.02-.2 1.41-.59l7.78-7.78 2.81-2.81c.8-.78.8-2.07 0-2.86zM5.41 20L4 18.59l7.72-7.72 1.47 1.35L5.41 20z\"/>\n",
              "  </svg>\n",
              "      </button>\n",
              "      \n",
              "  <style>\n",
              "    .colab-df-container {\n",
              "      display:flex;\n",
              "      flex-wrap:wrap;\n",
              "      gap: 12px;\n",
              "    }\n",
              "\n",
              "    .colab-df-convert {\n",
              "      background-color: #E8F0FE;\n",
              "      border: none;\n",
              "      border-radius: 50%;\n",
              "      cursor: pointer;\n",
              "      display: none;\n",
              "      fill: #1967D2;\n",
              "      height: 32px;\n",
              "      padding: 0 0 0 0;\n",
              "      width: 32px;\n",
              "    }\n",
              "\n",
              "    .colab-df-convert:hover {\n",
              "      background-color: #E2EBFA;\n",
              "      box-shadow: 0px 1px 2px rgba(60, 64, 67, 0.3), 0px 1px 3px 1px rgba(60, 64, 67, 0.15);\n",
              "      fill: #174EA6;\n",
              "    }\n",
              "\n",
              "    [theme=dark] .colab-df-convert {\n",
              "      background-color: #3B4455;\n",
              "      fill: #D2E3FC;\n",
              "    }\n",
              "\n",
              "    [theme=dark] .colab-df-convert:hover {\n",
              "      background-color: #434B5C;\n",
              "      box-shadow: 0px 1px 3px 1px rgba(0, 0, 0, 0.15);\n",
              "      filter: drop-shadow(0px 1px 2px rgba(0, 0, 0, 0.3));\n",
              "      fill: #FFFFFF;\n",
              "    }\n",
              "  </style>\n",
              "\n",
              "      <script>\n",
              "        const buttonEl =\n",
              "          document.querySelector('#df-130a6a35-9f2b-47bd-9235-118667e30676 button.colab-df-convert');\n",
              "        buttonEl.style.display =\n",
              "          google.colab.kernel.accessAllowed ? 'block' : 'none';\n",
              "\n",
              "        async function convertToInteractive(key) {\n",
              "          const element = document.querySelector('#df-130a6a35-9f2b-47bd-9235-118667e30676');\n",
              "          const dataTable =\n",
              "            await google.colab.kernel.invokeFunction('convertToInteractive',\n",
              "                                                     [key], {});\n",
              "          if (!dataTable) return;\n",
              "\n",
              "          const docLinkHtml = 'Like what you see? Visit the ' +\n",
              "            '<a target=\"_blank\" href=https://colab.research.google.com/notebooks/data_table.ipynb>data table notebook</a>'\n",
              "            + ' to learn more about interactive tables.';\n",
              "          element.innerHTML = '';\n",
              "          dataTable['output_type'] = 'display_data';\n",
              "          await google.colab.output.renderOutput(dataTable, element);\n",
              "          const docLink = document.createElement('div');\n",
              "          docLink.innerHTML = docLinkHtml;\n",
              "          element.appendChild(docLink);\n",
              "        }\n",
              "      </script>\n",
              "    </div>\n",
              "  </div>\n",
              "  "
            ]
          },
          "metadata": {},
          "execution_count": 85
        }
      ]
    },
    {
      "cell_type": "code",
      "source": [
        "# с ростом числа деревьев бустинг идет к переобучению\n",
        "# ошибку по-хорошему нужно считать на валидационной выборке\n",
        "# как только ошибка начнет расти, цикл необходимо прервать\n",
        "\n",
        "n_trees = 10\n",
        "trees = []\n",
        "df['y_pred'] = df['y_true'].mean() # константное предсказание\n",
        "\n",
        "for i in range(n_trees):\n",
        "  df['residuals'] = df['y_true'] - df['y_pred']             # считаем остатки\n",
        "  tree = DecisionTreeRegressor(max_depth=1)                 # создаем дерево\n",
        "  tree.fit(df[[0,1,2]], df['residuals'])                    # обучаем на остатках\n",
        "  df['tree_pred'] = tree.predict(df[[0,1,2]])               # делаем предикт\n",
        "  df['y_pred'] = df['y_pred'] + nu * df['tree_pred']        # бустим\n",
        "  trees.append(tree)                                        # сохраняем дерево в список деревьев\n",
        "  print(mean_absolute_error(df['y_true'], df['y_pred']))    # получаем ошибку"
      ],
      "metadata": {
        "colab": {
          "base_uri": "https://localhost:8080/"
        },
        "id": "1pURXHf2IpBn",
        "outputId": "4d55e530-7fda-4138-daf5-b6c0cf57f279"
      },
      "execution_count": 88,
      "outputs": [
        {
          "output_type": "stream",
          "name": "stdout",
          "text": [
            "47.7195551504132\n",
            "43.76225992046251\n",
            "40.20069421350691\n",
            "38.31246716013791\n",
            "35.9084110685578\n",
            "34.55612221514074\n",
            "32.52770061806034\n",
            "30.869921937160456\n",
            "29.77629288414419\n",
            "28.107441457242025\n"
          ]
        }
      ]
    },
    {
      "cell_type": "markdown",
      "source": [
        "Создаем тестовые данные"
      ],
      "metadata": {
        "id": "ccDjJCqCLIIT"
      }
    },
    {
      "cell_type": "code",
      "source": [
        "X, y = make_regression(n_samples=10, n_features=3)"
      ],
      "metadata": {
        "id": "JKuvSOs3NSWJ"
      },
      "execution_count": 95,
      "outputs": []
    },
    {
      "cell_type": "code",
      "source": [
        "test = pd.DataFrame(X)\n",
        "test['y_true'] = y"
      ],
      "metadata": {
        "id": "bwFr2RouNSWK"
      },
      "execution_count": 96,
      "outputs": []
    },
    {
      "cell_type": "code",
      "source": [
        "test"
      ],
      "metadata": {
        "colab": {
          "base_uri": "https://localhost:8080/",
          "height": 363
        },
        "id": "8DnJJ56vNTyR",
        "outputId": "c08a3ed1-4412-47f5-a716-d741ee63f93e"
      },
      "execution_count": 97,
      "outputs": [
        {
          "output_type": "execute_result",
          "data": {
            "text/plain": [
              "          0         1         2      y_true\n",
              "0  1.013244  0.106553  1.652915  165.654779\n",
              "1 -0.027933  0.470578 -0.895843  -19.574023\n",
              "2  0.143834 -0.647156 -1.312607  -75.813472\n",
              "3  0.476867  0.376809  1.476398  124.111651\n",
              "4  0.696185 -1.356633 -0.324889  -17.973875\n",
              "5  0.824437  0.168155 -0.597818   53.217545\n",
              "6 -1.125637  0.492062 -0.058043  -76.995691\n",
              "7 -0.061969  0.532480 -1.291715  -37.008623\n",
              "8 -0.835283  0.437494  0.111444  -46.921493\n",
              "9 -1.302838 -0.668274 -0.897134 -184.105662"
            ],
            "text/html": [
              "\n",
              "  <div id=\"df-822fc6b2-e818-4f65-b769-62be70620ca8\">\n",
              "    <div class=\"colab-df-container\">\n",
              "      <div>\n",
              "<style scoped>\n",
              "    .dataframe tbody tr th:only-of-type {\n",
              "        vertical-align: middle;\n",
              "    }\n",
              "\n",
              "    .dataframe tbody tr th {\n",
              "        vertical-align: top;\n",
              "    }\n",
              "\n",
              "    .dataframe thead th {\n",
              "        text-align: right;\n",
              "    }\n",
              "</style>\n",
              "<table border=\"1\" class=\"dataframe\">\n",
              "  <thead>\n",
              "    <tr style=\"text-align: right;\">\n",
              "      <th></th>\n",
              "      <th>0</th>\n",
              "      <th>1</th>\n",
              "      <th>2</th>\n",
              "      <th>y_true</th>\n",
              "    </tr>\n",
              "  </thead>\n",
              "  <tbody>\n",
              "    <tr>\n",
              "      <th>0</th>\n",
              "      <td>1.013244</td>\n",
              "      <td>0.106553</td>\n",
              "      <td>1.652915</td>\n",
              "      <td>165.654779</td>\n",
              "    </tr>\n",
              "    <tr>\n",
              "      <th>1</th>\n",
              "      <td>-0.027933</td>\n",
              "      <td>0.470578</td>\n",
              "      <td>-0.895843</td>\n",
              "      <td>-19.574023</td>\n",
              "    </tr>\n",
              "    <tr>\n",
              "      <th>2</th>\n",
              "      <td>0.143834</td>\n",
              "      <td>-0.647156</td>\n",
              "      <td>-1.312607</td>\n",
              "      <td>-75.813472</td>\n",
              "    </tr>\n",
              "    <tr>\n",
              "      <th>3</th>\n",
              "      <td>0.476867</td>\n",
              "      <td>0.376809</td>\n",
              "      <td>1.476398</td>\n",
              "      <td>124.111651</td>\n",
              "    </tr>\n",
              "    <tr>\n",
              "      <th>4</th>\n",
              "      <td>0.696185</td>\n",
              "      <td>-1.356633</td>\n",
              "      <td>-0.324889</td>\n",
              "      <td>-17.973875</td>\n",
              "    </tr>\n",
              "    <tr>\n",
              "      <th>5</th>\n",
              "      <td>0.824437</td>\n",
              "      <td>0.168155</td>\n",
              "      <td>-0.597818</td>\n",
              "      <td>53.217545</td>\n",
              "    </tr>\n",
              "    <tr>\n",
              "      <th>6</th>\n",
              "      <td>-1.125637</td>\n",
              "      <td>0.492062</td>\n",
              "      <td>-0.058043</td>\n",
              "      <td>-76.995691</td>\n",
              "    </tr>\n",
              "    <tr>\n",
              "      <th>7</th>\n",
              "      <td>-0.061969</td>\n",
              "      <td>0.532480</td>\n",
              "      <td>-1.291715</td>\n",
              "      <td>-37.008623</td>\n",
              "    </tr>\n",
              "    <tr>\n",
              "      <th>8</th>\n",
              "      <td>-0.835283</td>\n",
              "      <td>0.437494</td>\n",
              "      <td>0.111444</td>\n",
              "      <td>-46.921493</td>\n",
              "    </tr>\n",
              "    <tr>\n",
              "      <th>9</th>\n",
              "      <td>-1.302838</td>\n",
              "      <td>-0.668274</td>\n",
              "      <td>-0.897134</td>\n",
              "      <td>-184.105662</td>\n",
              "    </tr>\n",
              "  </tbody>\n",
              "</table>\n",
              "</div>\n",
              "      <button class=\"colab-df-convert\" onclick=\"convertToInteractive('df-822fc6b2-e818-4f65-b769-62be70620ca8')\"\n",
              "              title=\"Convert this dataframe to an interactive table.\"\n",
              "              style=\"display:none;\">\n",
              "        \n",
              "  <svg xmlns=\"http://www.w3.org/2000/svg\" height=\"24px\"viewBox=\"0 0 24 24\"\n",
              "       width=\"24px\">\n",
              "    <path d=\"M0 0h24v24H0V0z\" fill=\"none\"/>\n",
              "    <path d=\"M18.56 5.44l.94 2.06.94-2.06 2.06-.94-2.06-.94-.94-2.06-.94 2.06-2.06.94zm-11 1L8.5 8.5l.94-2.06 2.06-.94-2.06-.94L8.5 2.5l-.94 2.06-2.06.94zm10 10l.94 2.06.94-2.06 2.06-.94-2.06-.94-.94-2.06-.94 2.06-2.06.94z\"/><path d=\"M17.41 7.96l-1.37-1.37c-.4-.4-.92-.59-1.43-.59-.52 0-1.04.2-1.43.59L10.3 9.45l-7.72 7.72c-.78.78-.78 2.05 0 2.83L4 21.41c.39.39.9.59 1.41.59.51 0 1.02-.2 1.41-.59l7.78-7.78 2.81-2.81c.8-.78.8-2.07 0-2.86zM5.41 20L4 18.59l7.72-7.72 1.47 1.35L5.41 20z\"/>\n",
              "  </svg>\n",
              "      </button>\n",
              "      \n",
              "  <style>\n",
              "    .colab-df-container {\n",
              "      display:flex;\n",
              "      flex-wrap:wrap;\n",
              "      gap: 12px;\n",
              "    }\n",
              "\n",
              "    .colab-df-convert {\n",
              "      background-color: #E8F0FE;\n",
              "      border: none;\n",
              "      border-radius: 50%;\n",
              "      cursor: pointer;\n",
              "      display: none;\n",
              "      fill: #1967D2;\n",
              "      height: 32px;\n",
              "      padding: 0 0 0 0;\n",
              "      width: 32px;\n",
              "    }\n",
              "\n",
              "    .colab-df-convert:hover {\n",
              "      background-color: #E2EBFA;\n",
              "      box-shadow: 0px 1px 2px rgba(60, 64, 67, 0.3), 0px 1px 3px 1px rgba(60, 64, 67, 0.15);\n",
              "      fill: #174EA6;\n",
              "    }\n",
              "\n",
              "    [theme=dark] .colab-df-convert {\n",
              "      background-color: #3B4455;\n",
              "      fill: #D2E3FC;\n",
              "    }\n",
              "\n",
              "    [theme=dark] .colab-df-convert:hover {\n",
              "      background-color: #434B5C;\n",
              "      box-shadow: 0px 1px 3px 1px rgba(0, 0, 0, 0.15);\n",
              "      filter: drop-shadow(0px 1px 2px rgba(0, 0, 0, 0.3));\n",
              "      fill: #FFFFFF;\n",
              "    }\n",
              "  </style>\n",
              "\n",
              "      <script>\n",
              "        const buttonEl =\n",
              "          document.querySelector('#df-822fc6b2-e818-4f65-b769-62be70620ca8 button.colab-df-convert');\n",
              "        buttonEl.style.display =\n",
              "          google.colab.kernel.accessAllowed ? 'block' : 'none';\n",
              "\n",
              "        async function convertToInteractive(key) {\n",
              "          const element = document.querySelector('#df-822fc6b2-e818-4f65-b769-62be70620ca8');\n",
              "          const dataTable =\n",
              "            await google.colab.kernel.invokeFunction('convertToInteractive',\n",
              "                                                     [key], {});\n",
              "          if (!dataTable) return;\n",
              "\n",
              "          const docLinkHtml = 'Like what you see? Visit the ' +\n",
              "            '<a target=\"_blank\" href=https://colab.research.google.com/notebooks/data_table.ipynb>data table notebook</a>'\n",
              "            + ' to learn more about interactive tables.';\n",
              "          element.innerHTML = '';\n",
              "          dataTable['output_type'] = 'display_data';\n",
              "          await google.colab.output.renderOutput(dataTable, element);\n",
              "          const docLink = document.createElement('div');\n",
              "          docLink.innerHTML = docLinkHtml;\n",
              "          element.appendChild(docLink);\n",
              "        }\n",
              "      </script>\n",
              "    </div>\n",
              "  </div>\n",
              "  "
            ]
          },
          "metadata": {},
          "execution_count": 97
        }
      ]
    },
    {
      "cell_type": "code",
      "source": [
        "# делаем константное предсказание для теста\n",
        "test['y_pred'] = df['y_true'].mean()"
      ],
      "metadata": {
        "id": "fBjXPLmtNUOf"
      },
      "execution_count": 101,
      "outputs": []
    },
    {
      "cell_type": "code",
      "source": [
        "# в цикле по деревьям забусим тестовый предикт\n",
        "for tree in trees:\n",
        "  test['y_pred'] += nu * tree.predict(test[[0,1,2]])"
      ],
      "metadata": {
        "id": "Awc4QS3-N4xG"
      },
      "execution_count": 102,
      "outputs": []
    },
    {
      "cell_type": "code",
      "source": [
        "test"
      ],
      "metadata": {
        "colab": {
          "base_uri": "https://localhost:8080/",
          "height": 363
        },
        "id": "c89MVOj5OIj-",
        "outputId": "02b80b46-7ece-4c6d-9a7f-b9d18840c51a"
      },
      "execution_count": 103,
      "outputs": [
        {
          "output_type": "execute_result",
          "data": {
            "text/plain": [
              "          0         1         2      y_true     y_pred\n",
              "0  1.013244  0.106553  1.652915  165.654779  19.545701\n",
              "1 -0.027933  0.470578 -0.895843  -19.574023  13.625063\n",
              "2  0.143834 -0.647156 -1.312607  -75.813472 -35.231230\n",
              "3  0.476867  0.376809  1.476398  124.111651  19.545701\n",
              "4  0.696185 -1.356633 -0.324889  -17.973875 -35.231230\n",
              "5  0.824437  0.168155 -0.597818   53.217545  13.625063\n",
              "6 -1.125637  0.492062 -0.058043  -76.995691  19.545701\n",
              "7 -0.061969  0.532480 -1.291715  -37.008623  13.625063\n",
              "8 -0.835283  0.437494  0.111444  -46.921493  19.545701\n",
              "9 -1.302838 -0.668274 -0.897134 -184.105662 -35.231230"
            ],
            "text/html": [
              "\n",
              "  <div id=\"df-007073f1-3bc6-4fc4-9412-33358b477056\">\n",
              "    <div class=\"colab-df-container\">\n",
              "      <div>\n",
              "<style scoped>\n",
              "    .dataframe tbody tr th:only-of-type {\n",
              "        vertical-align: middle;\n",
              "    }\n",
              "\n",
              "    .dataframe tbody tr th {\n",
              "        vertical-align: top;\n",
              "    }\n",
              "\n",
              "    .dataframe thead th {\n",
              "        text-align: right;\n",
              "    }\n",
              "</style>\n",
              "<table border=\"1\" class=\"dataframe\">\n",
              "  <thead>\n",
              "    <tr style=\"text-align: right;\">\n",
              "      <th></th>\n",
              "      <th>0</th>\n",
              "      <th>1</th>\n",
              "      <th>2</th>\n",
              "      <th>y_true</th>\n",
              "      <th>y_pred</th>\n",
              "    </tr>\n",
              "  </thead>\n",
              "  <tbody>\n",
              "    <tr>\n",
              "      <th>0</th>\n",
              "      <td>1.013244</td>\n",
              "      <td>0.106553</td>\n",
              "      <td>1.652915</td>\n",
              "      <td>165.654779</td>\n",
              "      <td>19.545701</td>\n",
              "    </tr>\n",
              "    <tr>\n",
              "      <th>1</th>\n",
              "      <td>-0.027933</td>\n",
              "      <td>0.470578</td>\n",
              "      <td>-0.895843</td>\n",
              "      <td>-19.574023</td>\n",
              "      <td>13.625063</td>\n",
              "    </tr>\n",
              "    <tr>\n",
              "      <th>2</th>\n",
              "      <td>0.143834</td>\n",
              "      <td>-0.647156</td>\n",
              "      <td>-1.312607</td>\n",
              "      <td>-75.813472</td>\n",
              "      <td>-35.231230</td>\n",
              "    </tr>\n",
              "    <tr>\n",
              "      <th>3</th>\n",
              "      <td>0.476867</td>\n",
              "      <td>0.376809</td>\n",
              "      <td>1.476398</td>\n",
              "      <td>124.111651</td>\n",
              "      <td>19.545701</td>\n",
              "    </tr>\n",
              "    <tr>\n",
              "      <th>4</th>\n",
              "      <td>0.696185</td>\n",
              "      <td>-1.356633</td>\n",
              "      <td>-0.324889</td>\n",
              "      <td>-17.973875</td>\n",
              "      <td>-35.231230</td>\n",
              "    </tr>\n",
              "    <tr>\n",
              "      <th>5</th>\n",
              "      <td>0.824437</td>\n",
              "      <td>0.168155</td>\n",
              "      <td>-0.597818</td>\n",
              "      <td>53.217545</td>\n",
              "      <td>13.625063</td>\n",
              "    </tr>\n",
              "    <tr>\n",
              "      <th>6</th>\n",
              "      <td>-1.125637</td>\n",
              "      <td>0.492062</td>\n",
              "      <td>-0.058043</td>\n",
              "      <td>-76.995691</td>\n",
              "      <td>19.545701</td>\n",
              "    </tr>\n",
              "    <tr>\n",
              "      <th>7</th>\n",
              "      <td>-0.061969</td>\n",
              "      <td>0.532480</td>\n",
              "      <td>-1.291715</td>\n",
              "      <td>-37.008623</td>\n",
              "      <td>13.625063</td>\n",
              "    </tr>\n",
              "    <tr>\n",
              "      <th>8</th>\n",
              "      <td>-0.835283</td>\n",
              "      <td>0.437494</td>\n",
              "      <td>0.111444</td>\n",
              "      <td>-46.921493</td>\n",
              "      <td>19.545701</td>\n",
              "    </tr>\n",
              "    <tr>\n",
              "      <th>9</th>\n",
              "      <td>-1.302838</td>\n",
              "      <td>-0.668274</td>\n",
              "      <td>-0.897134</td>\n",
              "      <td>-184.105662</td>\n",
              "      <td>-35.231230</td>\n",
              "    </tr>\n",
              "  </tbody>\n",
              "</table>\n",
              "</div>\n",
              "      <button class=\"colab-df-convert\" onclick=\"convertToInteractive('df-007073f1-3bc6-4fc4-9412-33358b477056')\"\n",
              "              title=\"Convert this dataframe to an interactive table.\"\n",
              "              style=\"display:none;\">\n",
              "        \n",
              "  <svg xmlns=\"http://www.w3.org/2000/svg\" height=\"24px\"viewBox=\"0 0 24 24\"\n",
              "       width=\"24px\">\n",
              "    <path d=\"M0 0h24v24H0V0z\" fill=\"none\"/>\n",
              "    <path d=\"M18.56 5.44l.94 2.06.94-2.06 2.06-.94-2.06-.94-.94-2.06-.94 2.06-2.06.94zm-11 1L8.5 8.5l.94-2.06 2.06-.94-2.06-.94L8.5 2.5l-.94 2.06-2.06.94zm10 10l.94 2.06.94-2.06 2.06-.94-2.06-.94-.94-2.06-.94 2.06-2.06.94z\"/><path d=\"M17.41 7.96l-1.37-1.37c-.4-.4-.92-.59-1.43-.59-.52 0-1.04.2-1.43.59L10.3 9.45l-7.72 7.72c-.78.78-.78 2.05 0 2.83L4 21.41c.39.39.9.59 1.41.59.51 0 1.02-.2 1.41-.59l7.78-7.78 2.81-2.81c.8-.78.8-2.07 0-2.86zM5.41 20L4 18.59l7.72-7.72 1.47 1.35L5.41 20z\"/>\n",
              "  </svg>\n",
              "      </button>\n",
              "      \n",
              "  <style>\n",
              "    .colab-df-container {\n",
              "      display:flex;\n",
              "      flex-wrap:wrap;\n",
              "      gap: 12px;\n",
              "    }\n",
              "\n",
              "    .colab-df-convert {\n",
              "      background-color: #E8F0FE;\n",
              "      border: none;\n",
              "      border-radius: 50%;\n",
              "      cursor: pointer;\n",
              "      display: none;\n",
              "      fill: #1967D2;\n",
              "      height: 32px;\n",
              "      padding: 0 0 0 0;\n",
              "      width: 32px;\n",
              "    }\n",
              "\n",
              "    .colab-df-convert:hover {\n",
              "      background-color: #E2EBFA;\n",
              "      box-shadow: 0px 1px 2px rgba(60, 64, 67, 0.3), 0px 1px 3px 1px rgba(60, 64, 67, 0.15);\n",
              "      fill: #174EA6;\n",
              "    }\n",
              "\n",
              "    [theme=dark] .colab-df-convert {\n",
              "      background-color: #3B4455;\n",
              "      fill: #D2E3FC;\n",
              "    }\n",
              "\n",
              "    [theme=dark] .colab-df-convert:hover {\n",
              "      background-color: #434B5C;\n",
              "      box-shadow: 0px 1px 3px 1px rgba(0, 0, 0, 0.15);\n",
              "      filter: drop-shadow(0px 1px 2px rgba(0, 0, 0, 0.3));\n",
              "      fill: #FFFFFF;\n",
              "    }\n",
              "  </style>\n",
              "\n",
              "      <script>\n",
              "        const buttonEl =\n",
              "          document.querySelector('#df-007073f1-3bc6-4fc4-9412-33358b477056 button.colab-df-convert');\n",
              "        buttonEl.style.display =\n",
              "          google.colab.kernel.accessAllowed ? 'block' : 'none';\n",
              "\n",
              "        async function convertToInteractive(key) {\n",
              "          const element = document.querySelector('#df-007073f1-3bc6-4fc4-9412-33358b477056');\n",
              "          const dataTable =\n",
              "            await google.colab.kernel.invokeFunction('convertToInteractive',\n",
              "                                                     [key], {});\n",
              "          if (!dataTable) return;\n",
              "\n",
              "          const docLinkHtml = 'Like what you see? Visit the ' +\n",
              "            '<a target=\"_blank\" href=https://colab.research.google.com/notebooks/data_table.ipynb>data table notebook</a>'\n",
              "            + ' to learn more about interactive tables.';\n",
              "          element.innerHTML = '';\n",
              "          dataTable['output_type'] = 'display_data';\n",
              "          await google.colab.output.renderOutput(dataTable, element);\n",
              "          const docLink = document.createElement('div');\n",
              "          docLink.innerHTML = docLinkHtml;\n",
              "          element.appendChild(docLink);\n",
              "        }\n",
              "      </script>\n",
              "    </div>\n",
              "  </div>\n",
              "  "
            ]
          },
          "metadata": {},
          "execution_count": 103
        }
      ]
    },
    {
      "cell_type": "markdown",
      "source": [
        "Посчитаем руками производную квадратичной функции потерь"
      ],
      "metadata": {
        "id": "frMzcIjwOKFH"
      }
    },
    {
      "cell_type": "code",
      "source": [
        "from sympy import *"
      ],
      "metadata": {
        "id": "R6jzbwVZgjmp"
      },
      "execution_count": 104,
      "outputs": []
    },
    {
      "cell_type": "code",
      "source": [
        "y_true = Symbol('y_true')\n",
        "y_pred = Symbol('y_pred')"
      ],
      "metadata": {
        "id": "TIPBa4nkgn4q"
      },
      "execution_count": 105,
      "outputs": []
    },
    {
      "cell_type": "code",
      "source": [
        "((y_true - y_pred)**2) / 2"
      ],
      "metadata": {
        "colab": {
          "base_uri": "https://localhost:8080/",
          "height": 56
        },
        "id": "D_cDLObGgwD-",
        "outputId": "83e90965-a23f-4f74-e0f4-a39efaf4ab74"
      },
      "execution_count": 107,
      "outputs": [
        {
          "output_type": "execute_result",
          "data": {
            "text/plain": [
              "(-y_pred + y_true)**2/2"
            ],
            "text/latex": "$\\displaystyle \\frac{\\left(- y_{pred} + y_{true}\\right)^{2}}{2}$"
          },
          "metadata": {},
          "execution_count": 107
        }
      ]
    },
    {
      "cell_type": "code",
      "source": [
        "-1 * (diff(((y_true - y_pred)**2) / 2, y_pred))"
      ],
      "metadata": {
        "colab": {
          "base_uri": "https://localhost:8080/",
          "height": 38
        },
        "id": "TzC3-G7tg7Ws",
        "outputId": "319fee97-3786-4758-9522-d6ad5a7ecf27"
      },
      "execution_count": 110,
      "outputs": [
        {
          "output_type": "execute_result",
          "data": {
            "text/plain": [
              "-y_pred + y_true"
            ],
            "text/latex": "$\\displaystyle - y_{pred} + y_{true}$"
          },
          "metadata": {},
          "execution_count": 110
        }
      ]
    },
    {
      "cell_type": "markdown",
      "source": [
        "# Классификация\n",
        "На примере кэтбуста: под капотом задачи классификации - регрессия\n",
        "\n",
        "после получения скора его значения преобразуются в вероятности через сигмоидную функцию\n",
        "\n",
        "кроме этого используются другие метрики\n",
        "\n",
        "например, roc-auc"
      ],
      "metadata": {
        "id": "kooiHrcEhnWb"
      }
    },
    {
      "cell_type": "code",
      "source": [
        "# приведенный ниже пример математически не корректен,\n",
        "# но демонстрирует тот факт, что классификация сводится к регресии"
      ],
      "metadata": {
        "id": "QDtJ_rCRh7cB"
      },
      "execution_count": 111,
      "outputs": []
    },
    {
      "cell_type": "code",
      "source": [
        "from sklearn.datasets import make_classification"
      ],
      "metadata": {
        "id": "wqgVrQGrkO0m"
      },
      "execution_count": 112,
      "outputs": []
    },
    {
      "cell_type": "code",
      "source": [
        "X, y = make_classification(n_samples=10, n_features=3, n_redundant=0)"
      ],
      "metadata": {
        "id": "__HYuGKOkUZF"
      },
      "execution_count": 113,
      "outputs": []
    },
    {
      "cell_type": "code",
      "source": [
        "df = pd.DataFrame(X)\n",
        "df['y_true'] = y"
      ],
      "metadata": {
        "id": "vkhfpAmnkbPs"
      },
      "execution_count": 116,
      "outputs": []
    },
    {
      "cell_type": "code",
      "source": [
        "df"
      ],
      "metadata": {
        "colab": {
          "base_uri": "https://localhost:8080/",
          "height": 363
        },
        "id": "enknfHV8khjt",
        "outputId": "3174577a-68dc-4fdb-b6b7-db3c774635f5"
      },
      "execution_count": 117,
      "outputs": [
        {
          "output_type": "execute_result",
          "data": {
            "text/plain": [
              "          0         1         2  y_true\n",
              "0 -0.405103 -1.413316 -1.177095       0\n",
              "1  0.915173  1.204760 -2.355209       1\n",
              "2 -0.568837 -0.063879 -1.799057       1\n",
              "3  0.895671  2.152856  1.201787       1\n",
              "4 -2.300173  0.447536 -0.598217       0\n",
              "5 -1.474051 -0.184027  1.849929       0\n",
              "6  1.972898 -0.610716  0.337515       1\n",
              "7  3.552773  0.863619  1.150781       1\n",
              "8 -1.037277  1.243949 -0.953947       0\n",
              "9 -0.168644 -1.921845  0.069150       0"
            ],
            "text/html": [
              "\n",
              "  <div id=\"df-6d7e5662-cc27-4b7b-82fb-66514e442be5\">\n",
              "    <div class=\"colab-df-container\">\n",
              "      <div>\n",
              "<style scoped>\n",
              "    .dataframe tbody tr th:only-of-type {\n",
              "        vertical-align: middle;\n",
              "    }\n",
              "\n",
              "    .dataframe tbody tr th {\n",
              "        vertical-align: top;\n",
              "    }\n",
              "\n",
              "    .dataframe thead th {\n",
              "        text-align: right;\n",
              "    }\n",
              "</style>\n",
              "<table border=\"1\" class=\"dataframe\">\n",
              "  <thead>\n",
              "    <tr style=\"text-align: right;\">\n",
              "      <th></th>\n",
              "      <th>0</th>\n",
              "      <th>1</th>\n",
              "      <th>2</th>\n",
              "      <th>y_true</th>\n",
              "    </tr>\n",
              "  </thead>\n",
              "  <tbody>\n",
              "    <tr>\n",
              "      <th>0</th>\n",
              "      <td>-0.405103</td>\n",
              "      <td>-1.413316</td>\n",
              "      <td>-1.177095</td>\n",
              "      <td>0</td>\n",
              "    </tr>\n",
              "    <tr>\n",
              "      <th>1</th>\n",
              "      <td>0.915173</td>\n",
              "      <td>1.204760</td>\n",
              "      <td>-2.355209</td>\n",
              "      <td>1</td>\n",
              "    </tr>\n",
              "    <tr>\n",
              "      <th>2</th>\n",
              "      <td>-0.568837</td>\n",
              "      <td>-0.063879</td>\n",
              "      <td>-1.799057</td>\n",
              "      <td>1</td>\n",
              "    </tr>\n",
              "    <tr>\n",
              "      <th>3</th>\n",
              "      <td>0.895671</td>\n",
              "      <td>2.152856</td>\n",
              "      <td>1.201787</td>\n",
              "      <td>1</td>\n",
              "    </tr>\n",
              "    <tr>\n",
              "      <th>4</th>\n",
              "      <td>-2.300173</td>\n",
              "      <td>0.447536</td>\n",
              "      <td>-0.598217</td>\n",
              "      <td>0</td>\n",
              "    </tr>\n",
              "    <tr>\n",
              "      <th>5</th>\n",
              "      <td>-1.474051</td>\n",
              "      <td>-0.184027</td>\n",
              "      <td>1.849929</td>\n",
              "      <td>0</td>\n",
              "    </tr>\n",
              "    <tr>\n",
              "      <th>6</th>\n",
              "      <td>1.972898</td>\n",
              "      <td>-0.610716</td>\n",
              "      <td>0.337515</td>\n",
              "      <td>1</td>\n",
              "    </tr>\n",
              "    <tr>\n",
              "      <th>7</th>\n",
              "      <td>3.552773</td>\n",
              "      <td>0.863619</td>\n",
              "      <td>1.150781</td>\n",
              "      <td>1</td>\n",
              "    </tr>\n",
              "    <tr>\n",
              "      <th>8</th>\n",
              "      <td>-1.037277</td>\n",
              "      <td>1.243949</td>\n",
              "      <td>-0.953947</td>\n",
              "      <td>0</td>\n",
              "    </tr>\n",
              "    <tr>\n",
              "      <th>9</th>\n",
              "      <td>-0.168644</td>\n",
              "      <td>-1.921845</td>\n",
              "      <td>0.069150</td>\n",
              "      <td>0</td>\n",
              "    </tr>\n",
              "  </tbody>\n",
              "</table>\n",
              "</div>\n",
              "      <button class=\"colab-df-convert\" onclick=\"convertToInteractive('df-6d7e5662-cc27-4b7b-82fb-66514e442be5')\"\n",
              "              title=\"Convert this dataframe to an interactive table.\"\n",
              "              style=\"display:none;\">\n",
              "        \n",
              "  <svg xmlns=\"http://www.w3.org/2000/svg\" height=\"24px\"viewBox=\"0 0 24 24\"\n",
              "       width=\"24px\">\n",
              "    <path d=\"M0 0h24v24H0V0z\" fill=\"none\"/>\n",
              "    <path d=\"M18.56 5.44l.94 2.06.94-2.06 2.06-.94-2.06-.94-.94-2.06-.94 2.06-2.06.94zm-11 1L8.5 8.5l.94-2.06 2.06-.94-2.06-.94L8.5 2.5l-.94 2.06-2.06.94zm10 10l.94 2.06.94-2.06 2.06-.94-2.06-.94-.94-2.06-.94 2.06-2.06.94z\"/><path d=\"M17.41 7.96l-1.37-1.37c-.4-.4-.92-.59-1.43-.59-.52 0-1.04.2-1.43.59L10.3 9.45l-7.72 7.72c-.78.78-.78 2.05 0 2.83L4 21.41c.39.39.9.59 1.41.59.51 0 1.02-.2 1.41-.59l7.78-7.78 2.81-2.81c.8-.78.8-2.07 0-2.86zM5.41 20L4 18.59l7.72-7.72 1.47 1.35L5.41 20z\"/>\n",
              "  </svg>\n",
              "      </button>\n",
              "      \n",
              "  <style>\n",
              "    .colab-df-container {\n",
              "      display:flex;\n",
              "      flex-wrap:wrap;\n",
              "      gap: 12px;\n",
              "    }\n",
              "\n",
              "    .colab-df-convert {\n",
              "      background-color: #E8F0FE;\n",
              "      border: none;\n",
              "      border-radius: 50%;\n",
              "      cursor: pointer;\n",
              "      display: none;\n",
              "      fill: #1967D2;\n",
              "      height: 32px;\n",
              "      padding: 0 0 0 0;\n",
              "      width: 32px;\n",
              "    }\n",
              "\n",
              "    .colab-df-convert:hover {\n",
              "      background-color: #E2EBFA;\n",
              "      box-shadow: 0px 1px 2px rgba(60, 64, 67, 0.3), 0px 1px 3px 1px rgba(60, 64, 67, 0.15);\n",
              "      fill: #174EA6;\n",
              "    }\n",
              "\n",
              "    [theme=dark] .colab-df-convert {\n",
              "      background-color: #3B4455;\n",
              "      fill: #D2E3FC;\n",
              "    }\n",
              "\n",
              "    [theme=dark] .colab-df-convert:hover {\n",
              "      background-color: #434B5C;\n",
              "      box-shadow: 0px 1px 3px 1px rgba(0, 0, 0, 0.15);\n",
              "      filter: drop-shadow(0px 1px 2px rgba(0, 0, 0, 0.3));\n",
              "      fill: #FFFFFF;\n",
              "    }\n",
              "  </style>\n",
              "\n",
              "      <script>\n",
              "        const buttonEl =\n",
              "          document.querySelector('#df-6d7e5662-cc27-4b7b-82fb-66514e442be5 button.colab-df-convert');\n",
              "        buttonEl.style.display =\n",
              "          google.colab.kernel.accessAllowed ? 'block' : 'none';\n",
              "\n",
              "        async function convertToInteractive(key) {\n",
              "          const element = document.querySelector('#df-6d7e5662-cc27-4b7b-82fb-66514e442be5');\n",
              "          const dataTable =\n",
              "            await google.colab.kernel.invokeFunction('convertToInteractive',\n",
              "                                                     [key], {});\n",
              "          if (!dataTable) return;\n",
              "\n",
              "          const docLinkHtml = 'Like what you see? Visit the ' +\n",
              "            '<a target=\"_blank\" href=https://colab.research.google.com/notebooks/data_table.ipynb>data table notebook</a>'\n",
              "            + ' to learn more about interactive tables.';\n",
              "          element.innerHTML = '';\n",
              "          dataTable['output_type'] = 'display_data';\n",
              "          await google.colab.output.renderOutput(dataTable, element);\n",
              "          const docLink = document.createElement('div');\n",
              "          docLink.innerHTML = docLinkHtml;\n",
              "          element.appendChild(docLink);\n",
              "        }\n",
              "      </script>\n",
              "    </div>\n",
              "  </div>\n",
              "  "
            ]
          },
          "metadata": {},
          "execution_count": 117
        }
      ]
    },
    {
      "cell_type": "code",
      "source": [
        "# предсказывать будем скор, не классическую вероятность\n",
        "df['y_pred'] = df['y_true'].mean()\n",
        "df"
      ],
      "metadata": {
        "colab": {
          "base_uri": "https://localhost:8080/",
          "height": 363
        },
        "id": "yKwtQsBjkh1g",
        "outputId": "50a08345-a9cf-4ce5-b478-51da45abe602"
      },
      "execution_count": 118,
      "outputs": [
        {
          "output_type": "execute_result",
          "data": {
            "text/plain": [
              "          0         1         2  y_true  y_pred\n",
              "0 -0.405103 -1.413316 -1.177095       0     0.5\n",
              "1  0.915173  1.204760 -2.355209       1     0.5\n",
              "2 -0.568837 -0.063879 -1.799057       1     0.5\n",
              "3  0.895671  2.152856  1.201787       1     0.5\n",
              "4 -2.300173  0.447536 -0.598217       0     0.5\n",
              "5 -1.474051 -0.184027  1.849929       0     0.5\n",
              "6  1.972898 -0.610716  0.337515       1     0.5\n",
              "7  3.552773  0.863619  1.150781       1     0.5\n",
              "8 -1.037277  1.243949 -0.953947       0     0.5\n",
              "9 -0.168644 -1.921845  0.069150       0     0.5"
            ],
            "text/html": [
              "\n",
              "  <div id=\"df-c6bd451b-8075-440b-8f52-62ea9cb353a8\">\n",
              "    <div class=\"colab-df-container\">\n",
              "      <div>\n",
              "<style scoped>\n",
              "    .dataframe tbody tr th:only-of-type {\n",
              "        vertical-align: middle;\n",
              "    }\n",
              "\n",
              "    .dataframe tbody tr th {\n",
              "        vertical-align: top;\n",
              "    }\n",
              "\n",
              "    .dataframe thead th {\n",
              "        text-align: right;\n",
              "    }\n",
              "</style>\n",
              "<table border=\"1\" class=\"dataframe\">\n",
              "  <thead>\n",
              "    <tr style=\"text-align: right;\">\n",
              "      <th></th>\n",
              "      <th>0</th>\n",
              "      <th>1</th>\n",
              "      <th>2</th>\n",
              "      <th>y_true</th>\n",
              "      <th>y_pred</th>\n",
              "    </tr>\n",
              "  </thead>\n",
              "  <tbody>\n",
              "    <tr>\n",
              "      <th>0</th>\n",
              "      <td>-0.405103</td>\n",
              "      <td>-1.413316</td>\n",
              "      <td>-1.177095</td>\n",
              "      <td>0</td>\n",
              "      <td>0.5</td>\n",
              "    </tr>\n",
              "    <tr>\n",
              "      <th>1</th>\n",
              "      <td>0.915173</td>\n",
              "      <td>1.204760</td>\n",
              "      <td>-2.355209</td>\n",
              "      <td>1</td>\n",
              "      <td>0.5</td>\n",
              "    </tr>\n",
              "    <tr>\n",
              "      <th>2</th>\n",
              "      <td>-0.568837</td>\n",
              "      <td>-0.063879</td>\n",
              "      <td>-1.799057</td>\n",
              "      <td>1</td>\n",
              "      <td>0.5</td>\n",
              "    </tr>\n",
              "    <tr>\n",
              "      <th>3</th>\n",
              "      <td>0.895671</td>\n",
              "      <td>2.152856</td>\n",
              "      <td>1.201787</td>\n",
              "      <td>1</td>\n",
              "      <td>0.5</td>\n",
              "    </tr>\n",
              "    <tr>\n",
              "      <th>4</th>\n",
              "      <td>-2.300173</td>\n",
              "      <td>0.447536</td>\n",
              "      <td>-0.598217</td>\n",
              "      <td>0</td>\n",
              "      <td>0.5</td>\n",
              "    </tr>\n",
              "    <tr>\n",
              "      <th>5</th>\n",
              "      <td>-1.474051</td>\n",
              "      <td>-0.184027</td>\n",
              "      <td>1.849929</td>\n",
              "      <td>0</td>\n",
              "      <td>0.5</td>\n",
              "    </tr>\n",
              "    <tr>\n",
              "      <th>6</th>\n",
              "      <td>1.972898</td>\n",
              "      <td>-0.610716</td>\n",
              "      <td>0.337515</td>\n",
              "      <td>1</td>\n",
              "      <td>0.5</td>\n",
              "    </tr>\n",
              "    <tr>\n",
              "      <th>7</th>\n",
              "      <td>3.552773</td>\n",
              "      <td>0.863619</td>\n",
              "      <td>1.150781</td>\n",
              "      <td>1</td>\n",
              "      <td>0.5</td>\n",
              "    </tr>\n",
              "    <tr>\n",
              "      <th>8</th>\n",
              "      <td>-1.037277</td>\n",
              "      <td>1.243949</td>\n",
              "      <td>-0.953947</td>\n",
              "      <td>0</td>\n",
              "      <td>0.5</td>\n",
              "    </tr>\n",
              "    <tr>\n",
              "      <th>9</th>\n",
              "      <td>-0.168644</td>\n",
              "      <td>-1.921845</td>\n",
              "      <td>0.069150</td>\n",
              "      <td>0</td>\n",
              "      <td>0.5</td>\n",
              "    </tr>\n",
              "  </tbody>\n",
              "</table>\n",
              "</div>\n",
              "      <button class=\"colab-df-convert\" onclick=\"convertToInteractive('df-c6bd451b-8075-440b-8f52-62ea9cb353a8')\"\n",
              "              title=\"Convert this dataframe to an interactive table.\"\n",
              "              style=\"display:none;\">\n",
              "        \n",
              "  <svg xmlns=\"http://www.w3.org/2000/svg\" height=\"24px\"viewBox=\"0 0 24 24\"\n",
              "       width=\"24px\">\n",
              "    <path d=\"M0 0h24v24H0V0z\" fill=\"none\"/>\n",
              "    <path d=\"M18.56 5.44l.94 2.06.94-2.06 2.06-.94-2.06-.94-.94-2.06-.94 2.06-2.06.94zm-11 1L8.5 8.5l.94-2.06 2.06-.94-2.06-.94L8.5 2.5l-.94 2.06-2.06.94zm10 10l.94 2.06.94-2.06 2.06-.94-2.06-.94-.94-2.06-.94 2.06-2.06.94z\"/><path d=\"M17.41 7.96l-1.37-1.37c-.4-.4-.92-.59-1.43-.59-.52 0-1.04.2-1.43.59L10.3 9.45l-7.72 7.72c-.78.78-.78 2.05 0 2.83L4 21.41c.39.39.9.59 1.41.59.51 0 1.02-.2 1.41-.59l7.78-7.78 2.81-2.81c.8-.78.8-2.07 0-2.86zM5.41 20L4 18.59l7.72-7.72 1.47 1.35L5.41 20z\"/>\n",
              "  </svg>\n",
              "      </button>\n",
              "      \n",
              "  <style>\n",
              "    .colab-df-container {\n",
              "      display:flex;\n",
              "      flex-wrap:wrap;\n",
              "      gap: 12px;\n",
              "    }\n",
              "\n",
              "    .colab-df-convert {\n",
              "      background-color: #E8F0FE;\n",
              "      border: none;\n",
              "      border-radius: 50%;\n",
              "      cursor: pointer;\n",
              "      display: none;\n",
              "      fill: #1967D2;\n",
              "      height: 32px;\n",
              "      padding: 0 0 0 0;\n",
              "      width: 32px;\n",
              "    }\n",
              "\n",
              "    .colab-df-convert:hover {\n",
              "      background-color: #E2EBFA;\n",
              "      box-shadow: 0px 1px 2px rgba(60, 64, 67, 0.3), 0px 1px 3px 1px rgba(60, 64, 67, 0.15);\n",
              "      fill: #174EA6;\n",
              "    }\n",
              "\n",
              "    [theme=dark] .colab-df-convert {\n",
              "      background-color: #3B4455;\n",
              "      fill: #D2E3FC;\n",
              "    }\n",
              "\n",
              "    [theme=dark] .colab-df-convert:hover {\n",
              "      background-color: #434B5C;\n",
              "      box-shadow: 0px 1px 3px 1px rgba(0, 0, 0, 0.15);\n",
              "      filter: drop-shadow(0px 1px 2px rgba(0, 0, 0, 0.3));\n",
              "      fill: #FFFFFF;\n",
              "    }\n",
              "  </style>\n",
              "\n",
              "      <script>\n",
              "        const buttonEl =\n",
              "          document.querySelector('#df-c6bd451b-8075-440b-8f52-62ea9cb353a8 button.colab-df-convert');\n",
              "        buttonEl.style.display =\n",
              "          google.colab.kernel.accessAllowed ? 'block' : 'none';\n",
              "\n",
              "        async function convertToInteractive(key) {\n",
              "          const element = document.querySelector('#df-c6bd451b-8075-440b-8f52-62ea9cb353a8');\n",
              "          const dataTable =\n",
              "            await google.colab.kernel.invokeFunction('convertToInteractive',\n",
              "                                                     [key], {});\n",
              "          if (!dataTable) return;\n",
              "\n",
              "          const docLinkHtml = 'Like what you see? Visit the ' +\n",
              "            '<a target=\"_blank\" href=https://colab.research.google.com/notebooks/data_table.ipynb>data table notebook</a>'\n",
              "            + ' to learn more about interactive tables.';\n",
              "          element.innerHTML = '';\n",
              "          dataTable['output_type'] = 'display_data';\n",
              "          await google.colab.output.renderOutput(dataTable, element);\n",
              "          const docLink = document.createElement('div');\n",
              "          docLink.innerHTML = docLinkHtml;\n",
              "          element.appendChild(docLink);\n",
              "        }\n",
              "      </script>\n",
              "    </div>\n",
              "  </div>\n",
              "  "
            ]
          },
          "metadata": {},
          "execution_count": 118
        }
      ]
    },
    {
      "cell_type": "code",
      "source": [
        "# посчитаем значение метрики roc-auc\n",
        "from sklearn.metrics import roc_auc_score"
      ],
      "metadata": {
        "id": "RFIpk2eCk0IV"
      },
      "execution_count": 119,
      "outputs": []
    },
    {
      "cell_type": "code",
      "source": [
        "roc_auc_score(df['y_true'], df['y_pred'])"
      ],
      "metadata": {
        "colab": {
          "base_uri": "https://localhost:8080/"
        },
        "id": "hjwFrZgGk864",
        "outputId": "b07778c7-d730-4101-fa36-b9921e5908b0"
      },
      "execution_count": 120,
      "outputs": [
        {
          "output_type": "execute_result",
          "data": {
            "text/plain": [
              "0.5"
            ]
          },
          "metadata": {},
          "execution_count": 120
        }
      ]
    },
    {
      "cell_type": "code",
      "source": [
        "# используем реализацию градиентного бустинга с регрессии\n",
        "n_trees = 10\n",
        "trees = []\n",
        "df['y_pred'] = df['y_true'].mean() # константное предсказание\n",
        "\n",
        "for i in range(n_trees):\n",
        "  df['residuals'] = df['y_true'] - df['y_pred']             # считаем остатки\n",
        "  tree = DecisionTreeRegressor(max_depth=1)                 # создаем дерево\n",
        "  tree.fit(df[[0,1,2]], df['residuals'])                    # обучаем на остатках\n",
        "  df['tree_pred'] = tree.predict(df[[0,1,2]])               # делаем предикт\n",
        "  df['y_pred'] = df['y_pred'] + nu * df['tree_pred']        # бустим\n",
        "  trees.append(tree)                                        # сохраняем дерево в список деревьев\n",
        "  print(roc_auc_score(df['y_true'], df['y_pred']))    # получаем ошибку"
      ],
      "metadata": {
        "colab": {
          "base_uri": "https://localhost:8080/"
        },
        "id": "IDxiKgMZlCAk",
        "outputId": "3a359a99-60ea-4f1a-fee6-715c597dff73"
      },
      "execution_count": 122,
      "outputs": [
        {
          "output_type": "stream",
          "name": "stdout",
          "text": [
            "0.9\n",
            "0.9\n",
            "0.9\n",
            "0.9\n",
            "0.9\n",
            "0.9\n",
            "1.0\n",
            "1.0\n",
            "1.0\n",
            "1.0\n"
          ]
        }
      ]
    },
    {
      "cell_type": "code",
      "source": [
        "df"
      ],
      "metadata": {
        "colab": {
          "base_uri": "https://localhost:8080/",
          "height": 363
        },
        "id": "J4oXKaVXlQ0d",
        "outputId": "fe69f7d3-d97e-4a1e-dd4d-fa578fc7e7ab"
      },
      "execution_count": 124,
      "outputs": [
        {
          "output_type": "execute_result",
          "data": {
            "text/plain": [
              "          0         1         2  y_true    y_pred  residuals  tree_pred\n",
              "0 -0.405103 -1.413316 -1.177095       0  0.320046  -0.329958  -0.099118\n",
              "1  0.915173  1.204760 -2.355209       1  0.859123   0.180524   0.396474\n",
              "2 -0.568837 -0.063879 -1.799057       1  0.427224   0.612423   0.396474\n",
              "3  0.895671  2.152856  1.201787       1  0.751945   0.238143  -0.099118\n",
              "4 -2.300173  0.447536 -0.598217       0  0.272576  -0.282488  -0.099118\n",
              "5 -1.474051 -0.184027  1.849929       0  0.272576  -0.282488  -0.099118\n",
              "6  1.972898 -0.610716  0.337515       1  0.751945   0.238143  -0.099118\n",
              "7  3.552773  0.863619  1.150781       1  0.751945   0.238143  -0.099118\n",
              "8 -1.037277  1.243949 -0.953947       0  0.272576  -0.282488  -0.099118\n",
              "9 -0.168644 -1.921845  0.069150       0  0.320046  -0.329958  -0.099118"
            ],
            "text/html": [
              "\n",
              "  <div id=\"df-36e78239-40a4-4fc7-88b8-cb599514c53a\">\n",
              "    <div class=\"colab-df-container\">\n",
              "      <div>\n",
              "<style scoped>\n",
              "    .dataframe tbody tr th:only-of-type {\n",
              "        vertical-align: middle;\n",
              "    }\n",
              "\n",
              "    .dataframe tbody tr th {\n",
              "        vertical-align: top;\n",
              "    }\n",
              "\n",
              "    .dataframe thead th {\n",
              "        text-align: right;\n",
              "    }\n",
              "</style>\n",
              "<table border=\"1\" class=\"dataframe\">\n",
              "  <thead>\n",
              "    <tr style=\"text-align: right;\">\n",
              "      <th></th>\n",
              "      <th>0</th>\n",
              "      <th>1</th>\n",
              "      <th>2</th>\n",
              "      <th>y_true</th>\n",
              "      <th>y_pred</th>\n",
              "      <th>residuals</th>\n",
              "      <th>tree_pred</th>\n",
              "    </tr>\n",
              "  </thead>\n",
              "  <tbody>\n",
              "    <tr>\n",
              "      <th>0</th>\n",
              "      <td>-0.405103</td>\n",
              "      <td>-1.413316</td>\n",
              "      <td>-1.177095</td>\n",
              "      <td>0</td>\n",
              "      <td>0.320046</td>\n",
              "      <td>-0.329958</td>\n",
              "      <td>-0.099118</td>\n",
              "    </tr>\n",
              "    <tr>\n",
              "      <th>1</th>\n",
              "      <td>0.915173</td>\n",
              "      <td>1.204760</td>\n",
              "      <td>-2.355209</td>\n",
              "      <td>1</td>\n",
              "      <td>0.859123</td>\n",
              "      <td>0.180524</td>\n",
              "      <td>0.396474</td>\n",
              "    </tr>\n",
              "    <tr>\n",
              "      <th>2</th>\n",
              "      <td>-0.568837</td>\n",
              "      <td>-0.063879</td>\n",
              "      <td>-1.799057</td>\n",
              "      <td>1</td>\n",
              "      <td>0.427224</td>\n",
              "      <td>0.612423</td>\n",
              "      <td>0.396474</td>\n",
              "    </tr>\n",
              "    <tr>\n",
              "      <th>3</th>\n",
              "      <td>0.895671</td>\n",
              "      <td>2.152856</td>\n",
              "      <td>1.201787</td>\n",
              "      <td>1</td>\n",
              "      <td>0.751945</td>\n",
              "      <td>0.238143</td>\n",
              "      <td>-0.099118</td>\n",
              "    </tr>\n",
              "    <tr>\n",
              "      <th>4</th>\n",
              "      <td>-2.300173</td>\n",
              "      <td>0.447536</td>\n",
              "      <td>-0.598217</td>\n",
              "      <td>0</td>\n",
              "      <td>0.272576</td>\n",
              "      <td>-0.282488</td>\n",
              "      <td>-0.099118</td>\n",
              "    </tr>\n",
              "    <tr>\n",
              "      <th>5</th>\n",
              "      <td>-1.474051</td>\n",
              "      <td>-0.184027</td>\n",
              "      <td>1.849929</td>\n",
              "      <td>0</td>\n",
              "      <td>0.272576</td>\n",
              "      <td>-0.282488</td>\n",
              "      <td>-0.099118</td>\n",
              "    </tr>\n",
              "    <tr>\n",
              "      <th>6</th>\n",
              "      <td>1.972898</td>\n",
              "      <td>-0.610716</td>\n",
              "      <td>0.337515</td>\n",
              "      <td>1</td>\n",
              "      <td>0.751945</td>\n",
              "      <td>0.238143</td>\n",
              "      <td>-0.099118</td>\n",
              "    </tr>\n",
              "    <tr>\n",
              "      <th>7</th>\n",
              "      <td>3.552773</td>\n",
              "      <td>0.863619</td>\n",
              "      <td>1.150781</td>\n",
              "      <td>1</td>\n",
              "      <td>0.751945</td>\n",
              "      <td>0.238143</td>\n",
              "      <td>-0.099118</td>\n",
              "    </tr>\n",
              "    <tr>\n",
              "      <th>8</th>\n",
              "      <td>-1.037277</td>\n",
              "      <td>1.243949</td>\n",
              "      <td>-0.953947</td>\n",
              "      <td>0</td>\n",
              "      <td>0.272576</td>\n",
              "      <td>-0.282488</td>\n",
              "      <td>-0.099118</td>\n",
              "    </tr>\n",
              "    <tr>\n",
              "      <th>9</th>\n",
              "      <td>-0.168644</td>\n",
              "      <td>-1.921845</td>\n",
              "      <td>0.069150</td>\n",
              "      <td>0</td>\n",
              "      <td>0.320046</td>\n",
              "      <td>-0.329958</td>\n",
              "      <td>-0.099118</td>\n",
              "    </tr>\n",
              "  </tbody>\n",
              "</table>\n",
              "</div>\n",
              "      <button class=\"colab-df-convert\" onclick=\"convertToInteractive('df-36e78239-40a4-4fc7-88b8-cb599514c53a')\"\n",
              "              title=\"Convert this dataframe to an interactive table.\"\n",
              "              style=\"display:none;\">\n",
              "        \n",
              "  <svg xmlns=\"http://www.w3.org/2000/svg\" height=\"24px\"viewBox=\"0 0 24 24\"\n",
              "       width=\"24px\">\n",
              "    <path d=\"M0 0h24v24H0V0z\" fill=\"none\"/>\n",
              "    <path d=\"M18.56 5.44l.94 2.06.94-2.06 2.06-.94-2.06-.94-.94-2.06-.94 2.06-2.06.94zm-11 1L8.5 8.5l.94-2.06 2.06-.94-2.06-.94L8.5 2.5l-.94 2.06-2.06.94zm10 10l.94 2.06.94-2.06 2.06-.94-2.06-.94-.94-2.06-.94 2.06-2.06.94z\"/><path d=\"M17.41 7.96l-1.37-1.37c-.4-.4-.92-.59-1.43-.59-.52 0-1.04.2-1.43.59L10.3 9.45l-7.72 7.72c-.78.78-.78 2.05 0 2.83L4 21.41c.39.39.9.59 1.41.59.51 0 1.02-.2 1.41-.59l7.78-7.78 2.81-2.81c.8-.78.8-2.07 0-2.86zM5.41 20L4 18.59l7.72-7.72 1.47 1.35L5.41 20z\"/>\n",
              "  </svg>\n",
              "      </button>\n",
              "      \n",
              "  <style>\n",
              "    .colab-df-container {\n",
              "      display:flex;\n",
              "      flex-wrap:wrap;\n",
              "      gap: 12px;\n",
              "    }\n",
              "\n",
              "    .colab-df-convert {\n",
              "      background-color: #E8F0FE;\n",
              "      border: none;\n",
              "      border-radius: 50%;\n",
              "      cursor: pointer;\n",
              "      display: none;\n",
              "      fill: #1967D2;\n",
              "      height: 32px;\n",
              "      padding: 0 0 0 0;\n",
              "      width: 32px;\n",
              "    }\n",
              "\n",
              "    .colab-df-convert:hover {\n",
              "      background-color: #E2EBFA;\n",
              "      box-shadow: 0px 1px 2px rgba(60, 64, 67, 0.3), 0px 1px 3px 1px rgba(60, 64, 67, 0.15);\n",
              "      fill: #174EA6;\n",
              "    }\n",
              "\n",
              "    [theme=dark] .colab-df-convert {\n",
              "      background-color: #3B4455;\n",
              "      fill: #D2E3FC;\n",
              "    }\n",
              "\n",
              "    [theme=dark] .colab-df-convert:hover {\n",
              "      background-color: #434B5C;\n",
              "      box-shadow: 0px 1px 3px 1px rgba(0, 0, 0, 0.15);\n",
              "      filter: drop-shadow(0px 1px 2px rgba(0, 0, 0, 0.3));\n",
              "      fill: #FFFFFF;\n",
              "    }\n",
              "  </style>\n",
              "\n",
              "      <script>\n",
              "        const buttonEl =\n",
              "          document.querySelector('#df-36e78239-40a4-4fc7-88b8-cb599514c53a button.colab-df-convert');\n",
              "        buttonEl.style.display =\n",
              "          google.colab.kernel.accessAllowed ? 'block' : 'none';\n",
              "\n",
              "        async function convertToInteractive(key) {\n",
              "          const element = document.querySelector('#df-36e78239-40a4-4fc7-88b8-cb599514c53a');\n",
              "          const dataTable =\n",
              "            await google.colab.kernel.invokeFunction('convertToInteractive',\n",
              "                                                     [key], {});\n",
              "          if (!dataTable) return;\n",
              "\n",
              "          const docLinkHtml = 'Like what you see? Visit the ' +\n",
              "            '<a target=\"_blank\" href=https://colab.research.google.com/notebooks/data_table.ipynb>data table notebook</a>'\n",
              "            + ' to learn more about interactive tables.';\n",
              "          element.innerHTML = '';\n",
              "          dataTable['output_type'] = 'display_data';\n",
              "          await google.colab.output.renderOutput(dataTable, element);\n",
              "          const docLink = document.createElement('div');\n",
              "          docLink.innerHTML = docLinkHtml;\n",
              "          element.appendChild(docLink);\n",
              "        }\n",
              "      </script>\n",
              "    </div>\n",
              "  </div>\n",
              "  "
            ]
          },
          "metadata": {},
          "execution_count": 124
        }
      ]
    },
    {
      "cell_type": "code",
      "source": [
        "# видим, что скоры выше для объектов первого класса\n",
        "\n",
        "# заметка:\n",
        "# производная логарифмической функции затрат сводится к (y_true - y_pred)\n",
        "\n",
        "# в классификации для подсчета гаммы (то, что в регрессии - среднее по сэмплам листа дерева), \n",
        "# логарифмическая функция затрат аппроксимируется с помошью полинома Тейлора\n"
      ],
      "metadata": {
        "id": "erjWma7-lf-q"
      },
      "execution_count": null,
      "outputs": []
    }
  ]
}